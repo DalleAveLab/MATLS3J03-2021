{
 "cells": [
  {
   "cell_type": "markdown",
   "id": "direct-rocket",
   "metadata": {},
   "source": [
    "# Introduction\n",
    "\n",
    "In this tutorial we will look at some statistical functions and plotting tools that we can use to describe a data set.\n",
    "\n",
    "As always, the first thing to do is import the data, again we will look at the board thickness example."
   ]
  },
  {
   "cell_type": "code",
   "execution_count": 1,
   "id": "combined-object",
   "metadata": {},
   "outputs": [
    {
     "name": "stdout",
     "output_type": "stream",
     "text": [
      "                     Pos1  Pos2  Pos3  Pos4  Pos5  Pos6\n",
      "Date.Time                                              \n",
      "2010-02-18 03:04:46  1761  1739  1758  1677  1684  1692\n",
      "2010-02-18 03:37:01  1801  1688  1753  1741  1692  1675\n",
      "2010-02-18 03:37:01  1697  1682  1663  1671  1685  1651\n",
      "2010-02-18 03:37:01  1679  1712  1672  1703  1683  1674\n",
      "2010-02-18 03:37:10  1699  1688  1699  1678  1688  1705\n",
      "...                   ...   ...   ...   ...   ...   ...\n",
      "2010-02-18 13:15:54  1690  1701  1690  1694  1735  1695\n",
      "2010-02-18 13:15:54  1703  1674  1666  1694  1659  1728\n",
      "2010-02-18 13:16:02  1657  1667  1675  1654  1648  1609\n",
      "2010-02-18 13:16:02  1746  1717  1638  1723  1703  1706\n",
      "2010-02-18 13:16:02  1668  1680  1668  1669  1651  1629\n",
      "\n",
      "[5000 rows x 6 columns]\n"
     ]
    }
   ],
   "source": [
    "import pandas as pd\n",
    "all_boards = pd.read_csv(\"https://openmv.net/file/six-point-board-thickness.csv\", index_col=\"Date.Time\")\n",
    "print(all_boards)"
   ]
  },
  {
   "cell_type": "markdown",
   "id": "unauthorized-history",
   "metadata": {},
   "source": [
    "# Calculating Statistical Values\n",
    "\n",
    "A quick summary of the statistics for each of the columns can be found using the [.describe()](https://pandas.pydata.org/pandas-docs/stable/reference/api/pandas.DataFrame.describe.html) method."
   ]
  },
  {
   "cell_type": "code",
   "execution_count": 2,
   "id": "destroyed-future",
   "metadata": {},
   "outputs": [
    {
     "data": {
      "text/html": [
       "<div>\n",
       "<style scoped>\n",
       "    .dataframe tbody tr th:only-of-type {\n",
       "        vertical-align: middle;\n",
       "    }\n",
       "\n",
       "    .dataframe tbody tr th {\n",
       "        vertical-align: top;\n",
       "    }\n",
       "\n",
       "    .dataframe thead th {\n",
       "        text-align: right;\n",
       "    }\n",
       "</style>\n",
       "<table border=\"1\" class=\"dataframe\">\n",
       "  <thead>\n",
       "    <tr style=\"text-align: right;\">\n",
       "      <th></th>\n",
       "      <th>Pos1</th>\n",
       "      <th>Pos2</th>\n",
       "      <th>Pos3</th>\n",
       "      <th>Pos4</th>\n",
       "      <th>Pos5</th>\n",
       "      <th>Pos6</th>\n",
       "    </tr>\n",
       "  </thead>\n",
       "  <tbody>\n",
       "    <tr>\n",
       "      <th>count</th>\n",
       "      <td>5000.000000</td>\n",
       "      <td>5000.000000</td>\n",
       "      <td>5000.000000</td>\n",
       "      <td>5000.000000</td>\n",
       "      <td>5000.000000</td>\n",
       "      <td>5000.000000</td>\n",
       "    </tr>\n",
       "    <tr>\n",
       "      <th>mean</th>\n",
       "      <td>1689.393400</td>\n",
       "      <td>1680.912600</td>\n",
       "      <td>1678.210800</td>\n",
       "      <td>1687.351000</td>\n",
       "      <td>1682.895200</td>\n",
       "      <td>1681.577800</td>\n",
       "    </tr>\n",
       "    <tr>\n",
       "      <th>std</th>\n",
       "      <td>43.838524</td>\n",
       "      <td>41.367021</td>\n",
       "      <td>47.637345</td>\n",
       "      <td>42.425716</td>\n",
       "      <td>40.115778</td>\n",
       "      <td>45.071714</td>\n",
       "    </tr>\n",
       "    <tr>\n",
       "      <th>min</th>\n",
       "      <td>880.000000</td>\n",
       "      <td>1333.000000</td>\n",
       "      <td>1268.000000</td>\n",
       "      <td>1252.000000</td>\n",
       "      <td>1311.000000</td>\n",
       "      <td>1282.000000</td>\n",
       "    </tr>\n",
       "    <tr>\n",
       "      <th>25%</th>\n",
       "      <td>1670.000000</td>\n",
       "      <td>1662.000000</td>\n",
       "      <td>1657.750000</td>\n",
       "      <td>1666.000000</td>\n",
       "      <td>1663.000000</td>\n",
       "      <td>1659.000000</td>\n",
       "    </tr>\n",
       "    <tr>\n",
       "      <th>50%</th>\n",
       "      <td>1685.000000</td>\n",
       "      <td>1677.000000</td>\n",
       "      <td>1677.000000</td>\n",
       "      <td>1683.000000</td>\n",
       "      <td>1679.000000</td>\n",
       "      <td>1679.000000</td>\n",
       "    </tr>\n",
       "    <tr>\n",
       "      <th>75%</th>\n",
       "      <td>1705.000000</td>\n",
       "      <td>1695.000000</td>\n",
       "      <td>1697.250000</td>\n",
       "      <td>1708.000000</td>\n",
       "      <td>1697.250000</td>\n",
       "      <td>1702.000000</td>\n",
       "    </tr>\n",
       "    <tr>\n",
       "      <th>max</th>\n",
       "      <td>1902.000000</td>\n",
       "      <td>1838.000000</td>\n",
       "      <td>1840.000000</td>\n",
       "      <td>1852.000000</td>\n",
       "      <td>1862.000000</td>\n",
       "      <td>1865.000000</td>\n",
       "    </tr>\n",
       "  </tbody>\n",
       "</table>\n",
       "</div>"
      ],
      "text/plain": [
       "              Pos1         Pos2         Pos3         Pos4         Pos5  \\\n",
       "count  5000.000000  5000.000000  5000.000000  5000.000000  5000.000000   \n",
       "mean   1689.393400  1680.912600  1678.210800  1687.351000  1682.895200   \n",
       "std      43.838524    41.367021    47.637345    42.425716    40.115778   \n",
       "min     880.000000  1333.000000  1268.000000  1252.000000  1311.000000   \n",
       "25%    1670.000000  1662.000000  1657.750000  1666.000000  1663.000000   \n",
       "50%    1685.000000  1677.000000  1677.000000  1683.000000  1679.000000   \n",
       "75%    1705.000000  1695.000000  1697.250000  1708.000000  1697.250000   \n",
       "max    1902.000000  1838.000000  1840.000000  1852.000000  1862.000000   \n",
       "\n",
       "              Pos6  \n",
       "count  5000.000000  \n",
       "mean   1681.577800  \n",
       "std      45.071714  \n",
       "min    1282.000000  \n",
       "25%    1659.000000  \n",
       "50%    1679.000000  \n",
       "75%    1702.000000  \n",
       "max    1865.000000  "
      ]
     },
     "execution_count": 2,
     "metadata": {},
     "output_type": "execute_result"
    }
   ],
   "source": [
    "all_boards.describe()"
   ]
  },
  {
   "cell_type": "markdown",
   "id": "optical-socket",
   "metadata": {},
   "source": [
    "Individual statistics can be calculated in a similar manner. They can all be called in a similar manner, so I won't show examples of all of them."
   ]
  },
  {
   "cell_type": "code",
   "execution_count": 3,
   "id": "conservative-passion",
   "metadata": {},
   "outputs": [
    {
     "data": {
      "text/plain": [
       "Pos1    1685.0\n",
       "Pos2    1677.0\n",
       "Pos3    1677.0\n",
       "Pos4    1683.0\n",
       "Pos5    1679.0\n",
       "Pos6    1679.0\n",
       "dtype: float64"
      ]
     },
     "execution_count": 3,
     "metadata": {},
     "output_type": "execute_result"
    }
   ],
   "source": [
    "all_boards.median()"
   ]
  },
  {
   "cell_type": "code",
   "execution_count": 4,
   "id": "bright-feelings",
   "metadata": {},
   "outputs": [
    {
     "data": {
      "text/plain": [
       "Pos1    28.929748\n",
       "Pos2    28.815642\n",
       "Pos3    32.901150\n",
       "Pos4    30.122031\n",
       "Pos5    28.063560\n",
       "Pos6    32.319819\n",
       "dtype: float64"
      ]
     },
     "execution_count": 4,
     "metadata": {},
     "output_type": "execute_result"
    }
   ],
   "source": [
    "all_boards.mad()"
   ]
  },
  {
   "cell_type": "code",
   "execution_count": 5,
   "id": "exotic-portrait",
   "metadata": {},
   "outputs": [
    {
     "data": {
      "text/plain": [
       "Pos1    1689.3934\n",
       "Pos2    1680.9126\n",
       "Pos3    1678.2108\n",
       "Pos4    1687.3510\n",
       "Pos5    1682.8952\n",
       "Pos6    1681.5778\n",
       "dtype: float64"
      ]
     },
     "execution_count": 5,
     "metadata": {},
     "output_type": "execute_result"
    }
   ],
   "source": [
    "all_boards.mean()"
   ]
  },
  {
   "cell_type": "markdown",
   "id": "stock-quantum",
   "metadata": {},
   "source": [
    "The above methods can also be called on individual columns (or Series)."
   ]
  },
  {
   "cell_type": "code",
   "execution_count": 6,
   "id": "critical-parts",
   "metadata": {},
   "outputs": [
    {
     "data": {
      "text/plain": [
       "1689.3934"
      ]
     },
     "execution_count": 6,
     "metadata": {},
     "output_type": "execute_result"
    }
   ],
   "source": [
    "all_boards['Pos1'].mean()"
   ]
  },
  {
   "cell_type": "markdown",
   "id": "western-adobe",
   "metadata": {},
   "source": [
    "# Histograms\n",
    "\n",
    "We will now look at how to plot histograms in python. The method is similar to the plotting methods that we saw in earlier code examples and the same types of formatting rules apply to histograms as well. Calling the [.hist()](https://pandas.pydata.org/pandas-docs/stable/reference/api/pandas.DataFrame.hist.html) method generates a histogram for each of the different columns. By default, pandas uses 10 bins per plot.\n"
   ]
  },
  {
   "cell_type": "code",
   "execution_count": 7,
   "id": "actual-tunisia",
   "metadata": {},
   "outputs": [
    {
     "data": {
      "text/plain": [
       "array([[<AxesSubplot:title={'center':'Pos1'}>,\n",
       "        <AxesSubplot:title={'center':'Pos2'}>],\n",
       "       [<AxesSubplot:title={'center':'Pos3'}>,\n",
       "        <AxesSubplot:title={'center':'Pos4'}>],\n",
       "       [<AxesSubplot:title={'center':'Pos5'}>,\n",
       "        <AxesSubplot:title={'center':'Pos6'}>]], dtype=object)"
      ]
     },
     "execution_count": 7,
     "metadata": {},
     "output_type": "execute_result"
    },
    {
     "data": {
      "image/png": "[encoded data removed]",
      "text/plain": [
       "<Figure size 432x288 with 6 Axes>"
      ]
     },
     "metadata": {
      "needs_background": "light"
     },
     "output_type": "display_data"
    }
   ],
   "source": [
    "all_boards.hist()"
   ]
  },
  {
   "cell_type": "markdown",
   "id": "thermal-relation",
   "metadata": {},
   "source": [
    "For illustrative purposes it's easier to work with one plot at a time."
   ]
  },
  {
   "cell_type": "code",
   "execution_count": 8,
   "id": "finnish-native",
   "metadata": {},
   "outputs": [
    {
     "data": {
      "image/png": "[encoded data removed]",
      "text/plain": [
       "<Figure size 432x288 with 1 Axes>"
      ]
     },
     "metadata": {
      "needs_background": "light"
     },
     "output_type": "display_data"
    }
   ],
   "source": [
    "axis = all_boards['Pos1'].hist()"
   ]
  },
  {
   "cell_type": "markdown",
   "id": "educational-dance",
   "metadata": {},
   "source": [
    "At first glance the histogram might look strange, why is there so much blank space to the left of the bulk of the distribution? If you could to where we described the data set, you can see the min value for Pos1 is 880. A general rule-of-thumb for the number of bins to include in the hisogram is the square root of the number of data points (in this case 71). We'll also switch to look at Pos2. We'll also remove the grid lines (grid option), change the figure size (figsize), change the colour of the bars (color) and outline the bars in black (edgecolor)."
   ]
  },
  {
   "cell_type": "code",
   "execution_count": 9,
   "id": "impressed-meditation",
   "metadata": {},
   "outputs": [
    {
     "data": {
      "image/png": "[encoded data removed]",
      "text/plain": [
       "<Figure size 720x432 with 1 Axes>"
      ]
     },
     "metadata": {
      "needs_background": "light"
     },
     "output_type": "display_data"
    }
   ],
   "source": [
    "axis = all_boards['Pos2'].hist(bins=71,grid=False,figsize=(10,6),color='gray',edgecolor='black')"
   ]
  }
 ],
 "metadata": {
  "kernelspec": {
   "display_name": "Python 3",
   "language": "python",
   "name": "python3"
  },
  "language_info": {
   "codemirror_mode": {
    "name": "ipython",
    "version": 3
   },
   "file_extension": ".py",
   "mimetype": "text/x-python",
   "name": "python",
   "nbconvert_exporter": "python",
   "pygments_lexer": "ipython3",
   "version": "3.8.3"
  }
 },
 "nbformat": 4,
 "nbformat_minor": 5
}
