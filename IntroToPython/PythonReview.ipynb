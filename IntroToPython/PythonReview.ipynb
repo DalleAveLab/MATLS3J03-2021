{
 "cells": [
  {
   "cell_type": "markdown",
   "id": "convertible-darwin",
   "metadata": {},
   "source": [
    "# Getting Started with Python\n",
    "\n",
    "Now that you've installed Python (if you haven't please install via [Anaconda](https://www.anaconda.com/products/individual)) let's quickly review some of the topics you covered in first year.\n",
    "\n",
    "The easiest way to work with Python is through an IDE (Integrated Developement Environment). Anaconda ships with the [Spyder IDE](https://www.spyder-ide.org/). Spyder has a similar look and feel to the MATLAB IDE so if you're familiar with MATLAB Spyder is probably a good choice for you for this class. If you prefer another Python IDE feel free to use it.\n",
    "\n",
    "Let's get started by creating a new file. File -> New File\n",
    "\n",
    "# Executing A Script\n",
    "\n",
    "When you've created a file let's verify that everything is working correctly by executing the classic \"Hello World\" script. Once you've typed the proper command and run the script (play button in Spyder) the output should be the same as below."
   ]
  },
  {
   "cell_type": "code",
   "execution_count": 1,
   "id": "white-hypothetical",
   "metadata": {},
   "outputs": [
    {
     "name": "stdout",
     "output_type": "stream",
     "text": [
      "Hello World!\n"
     ]
    }
   ],
   "source": [
    "print(\"Hello World!\")"
   ]
  },
  {
   "cell_type": "markdown",
   "id": "italic-marine",
   "metadata": {},
   "source": [
    "# Variables, Types, and Naming\n",
    "\n",
    "Python is an interpretted language that makes use of dynamic typing (see [Duck Typing](https://en.wikipedia.org/wiki/Duck_typing) for more info if you're interested); variables in Python therefore do not need to be explicitly declared with their type.     \n",
    "\n",
    "Python has the following [built-in types (among others)](https://docs.python.org/3/library/stdtypes.html):\n",
    "* Text: str\n",
    "* Numeric: int, float\n",
    "* Boolean: bool\n",
    "* Sequence: list\n",
    "* Mapping: dict\n",
    "\n",
    "Variables in Python are typically declared using the lower_case_with_understores convention. The type() function can be used to check a variables type. Simple examples using these types can be seen below.\n",
    "\n",
    "## Numeric Types"
   ]
  },
  {
   "cell_type": "code",
   "execution_count": 2,
   "id": "willing-substance",
   "metadata": {},
   "outputs": [
    {
     "name": "stdout",
     "output_type": "stream",
     "text": [
      "7200\n"
     ]
    }
   ],
   "source": [
    "# Example comment - use # to start a comment line\n",
    "seconds_in_an_hour = 3600 \n",
    "time_elapsed_hours = 2\n",
    "time_elapsed_seconds = time_elapsed_hours * seconds_in_an_hour\n",
    "\n",
    "# If a print statement is used with ONLY a numeric value, type conversion is done automatically\n",
    "print(time_elapsed_seconds)"
   ]
  },
  {
   "cell_type": "code",
   "execution_count": 3,
   "id": "conditional-original",
   "metadata": {},
   "outputs": [
    {
     "name": "stdout",
     "output_type": "stream",
     "text": [
      "<class 'int'>\n",
      "<class 'int'>\n",
      "0.5\n",
      "<class 'float'>\n"
     ]
    }
   ],
   "source": [
    "# Python typically does float/int conversion as needed\n",
    "print(type(seconds_in_an_hour))\n",
    "\n",
    "time_elapsed_seconds = 1800 # Another int\n",
    "print(type(time_elapsed_seconds))\n",
    "\n",
    "# Automatic conversion to float as needed\n",
    "time_elapsed_hours = time_elapsed_seconds/seconds_in_an_hour\n",
    "print(time_elapsed_hours)\n",
    "print(type(time_elapsed_hours))\n"
   ]
  },
  {
   "cell_type": "markdown",
   "id": "informative-delicious",
   "metadata": {},
   "source": [
    "## Text types"
   ]
  },
  {
   "cell_type": "code",
   "execution_count": 4,
   "id": "tight-lawsuit",
   "metadata": {},
   "outputs": [
    {
     "name": "stdout",
     "output_type": "stream",
     "text": [
      "MATLS 3J03\n"
     ]
    }
   ],
   "source": [
    "# String can be declared using \"\" or ''\n",
    "course_code = \"MATLS 3J03\"\n",
    "print(course_code)"
   ]
  },
  {
   "cell_type": "code",
   "execution_count": 5,
   "id": "missing-litigation",
   "metadata": {},
   "outputs": [
    {
     "name": "stdout",
     "output_type": "stream",
     "text": [
      "My favourite course is MATLS 3J03!\n"
     ]
    }
   ],
   "source": [
    "# String can be concatenated using the + operator\n",
    "course_code = \"MATLS 3J03\"\n",
    "print(\"My favourite course is \" + course_code + \"!\")"
   ]
  },
  {
   "cell_type": "code",
   "execution_count": 6,
   "id": "ordinary-movement",
   "metadata": {},
   "outputs": [
    {
     "ename": "TypeError",
     "evalue": "can only concatenate str (not \"int\") to str",
     "output_type": "error",
     "traceback": [
      "\u001b[1;31m---------------------------------------------------------------------------\u001b[0m",
      "\u001b[1;31mTypeError\u001b[0m                                 Traceback (most recent call last)",
      "\u001b[1;32m<ipython-input-6-427af3d2b6c0>\u001b[0m in \u001b[0;36m<module>\u001b[1;34m\u001b[0m\n\u001b[0;32m      1\u001b[0m \u001b[1;31m# Implicit type conversion is NOT done for numeric data types\u001b[0m\u001b[1;33m\u001b[0m\u001b[1;33m\u001b[0m\u001b[1;33m\u001b[0m\u001b[0m\n\u001b[1;32m----> 2\u001b[1;33m \u001b[0mprint\u001b[0m\u001b[1;33m(\u001b[0m\u001b[1;34m\"Seconds in an hour \"\u001b[0m \u001b[1;33m+\u001b[0m \u001b[0mseconds_in_an_hour\u001b[0m\u001b[1;33m)\u001b[0m\u001b[1;33m\u001b[0m\u001b[1;33m\u001b[0m\u001b[0m\n\u001b[0m",
      "\u001b[1;31mTypeError\u001b[0m: can only concatenate str (not \"int\") to str"
     ]
    }
   ],
   "source": [
    "# Implicit type conversion is NOT done for numeric data types\n",
    "print(\"Seconds in an hour \" + seconds_in_an_hour)"
   ]
  },
  {
   "cell_type": "code",
   "execution_count": 7,
   "id": "authentic-surrey",
   "metadata": {},
   "outputs": [
    {
     "name": "stdout",
     "output_type": "stream",
     "text": [
      "Seconds in an hour 3600\n"
     ]
    }
   ],
   "source": [
    "# Implicit type conversion is NOT done for numeric data types - need to convert the numeric type to a string\n",
    "seconds_in_an_hour = 3600\n",
    "print(\"Seconds in an hour \" + str(seconds_in_an_hour))"
   ]
  },
  {
   "cell_type": "markdown",
   "id": "seven-vanilla",
   "metadata": {},
   "source": [
    "A full review of string processing is outside the scope of this course. If you're interested in string methods please see the [documentation](https://docs.python.org/3/library/stdtypes.html#string-methods)."
   ]
  },
  {
   "cell_type": "markdown",
   "id": "lasting-system",
   "metadata": {},
   "source": [
    "## Booleans"
   ]
  },
  {
   "cell_type": "markdown",
   "id": "finnish-district",
   "metadata": {},
   "source": [
    "There are eight comparison operators in Python:\n",
    "* < strictly less than\n",
    "* <= less than or equal\n",
    "* \\> strictly greater than\n",
    "* \\>= greater than or equal\n",
    "* == equals\n",
    "* !=\n",
    "* is object identity\n",
    "* is not negated object identity\n",
    "\n",
    "There are three boolean operators ordered by priority:\n",
    "* or \n",
    "* and\n",
    "* not\n",
    "\n",
    "Of these operators, not has the lowest priority, not a == b is interpretted as not (a == b). If you don't remember truth tables see the [Wikipedia page](https://en.wikipedia.org/wiki/Truth_table).\n",
    "\n",
    "Please see some simple examples below."
   ]
  },
  {
   "cell_type": "code",
   "execution_count": 8,
   "id": "martial-sympathy",
   "metadata": {},
   "outputs": [
    {
     "name": "stdout",
     "output_type": "stream",
     "text": [
      "5 > 3: True\n",
      "Is 5 in the list [1,2,3,4]: False\n",
      "Is 5 > 3 and 2 > 1: True\n"
     ]
    }
   ],
   "source": [
    "# Numerical comparison\n",
    "print(\"5 > 3: \" + str(5 > 3))\n",
    "\n",
    "# Identity check\n",
    "print(\"Is 5 in the list [1,2,3,4]: \" + str(5 in [1,2,3,4]))\n",
    "\n",
    "# boolean operatores \n",
    "print(\"Is 5 > 3 and 2 > 1: \" + str(5 > 3 and 2 > 1))\n",
    "\n"
   ]
  },
  {
   "cell_type": "markdown",
   "id": "noted-context",
   "metadata": {},
   "source": [
    "## Lists\n",
    "\n",
    "Lists are sequences of items. Lists are initialized by comma separated values within square brackets (\\[,\\]). Lists in python can contain items of many different variable types. "
   ]
  },
  {
   "cell_type": "code",
   "execution_count": 9,
   "id": "enabling-creator",
   "metadata": {},
   "outputs": [
    {
     "name": "stdout",
     "output_type": "stream",
     "text": [
      "[]\n",
      "[1, 2, 3, [], 'a', 'b']\n",
      "[5]\n",
      "<class 'list'>\n"
     ]
    }
   ],
   "source": [
    "# List declarations\n",
    "# Empty list\n",
    "empty_list = []\n",
    "print(empty_list)\n",
    "\n",
    "# Not empty list - comma separation\n",
    "not_empty_list = [1,2,3,[], 'a','b']\n",
    "print(not_empty_list)\n",
    "\n",
    "# To add elements to a list, can use the append function\n",
    "empty_list.append(5)\n",
    "print(empty_list)\n",
    "\n",
    "# The fourth element in this list is another list\n",
    "print(type(not_empty_list[3]))\n"
   ]
  },
  {
   "cell_type": "markdown",
   "id": "confirmed-booking",
   "metadata": {},
   "source": [
    "### Accessing List Elements\n",
    "\n",
    "Elements in a list can be accessed using square brackes \\[\\]. **Indexing in Python STARTS FROM ZERO**. This is different from MATLAB which starts indexing from 1. The len(list) method can be used to check the length of a list. The number of elements in a list is the length of the list minus one. You will get an IndexError if you try to access an element that is out of the list range."
   ]
  },
  {
   "cell_type": "code",
   "execution_count": 10,
   "id": "equivalent-surrey",
   "metadata": {},
   "outputs": [
    {
     "name": "stdout",
     "output_type": "stream",
     "text": [
      "The first index in the list is 0\n",
      "The first item in the list is 1\n",
      "The length of the list is 5\n",
      "The last index in the list is 4\n",
      "The last item in the list is b\n"
     ]
    }
   ],
   "source": [
    "# List indexing starts from 0\n",
    "not_empty_list = [1,2,3,'a','b']\n",
    "print(\"The first index in the list is 0\")\n",
    "print(\"The first item in the list is \" + str(not_empty_list[0]))\n",
    "\n",
    "# And continues to len(list) - 1\n",
    "list_length = len(not_empty_list)\n",
    "print(\"The length of the list is \" + str(list_length))\n",
    "last_list_index = list_length - 1\n",
    "print(\"The last index in the list is \" + str(last_list_index))\n",
    "print(\"The last item in the list is \" + not_empty_list[last_list_index])"
   ]
  },
  {
   "cell_type": "markdown",
   "id": "peripheral-pathology",
   "metadata": {},
   "source": [
    "Characters in a string can be accessed in the same way."
   ]
  },
  {
   "cell_type": "code",
   "execution_count": 11,
   "id": "hydraulic-albania",
   "metadata": {
    "scrolled": true
   },
   "outputs": [
    {
     "name": "stdout",
     "output_type": "stream",
     "text": [
      "H\n"
     ]
    }
   ],
   "source": [
    "greeting = \"Hello\"\n",
    "print(greeting[0])"
   ]
  },
  {
   "cell_type": "markdown",
   "id": "peaceful-missouri",
   "metadata": {},
   "source": [
    "#### Slicing\n",
    "\n",
    "Python provides list slicing functionalities allowing you to extract multiple elements from an array at the same time. Note again that the indexes start from 0. List slicing is performed with the colon operator \\[:\\]. The general syntax is list\\[start index: end index : step\\]. "
   ]
  },
  {
   "cell_type": "code",
   "execution_count": 1,
   "id": "trained-seating",
   "metadata": {},
   "outputs": [
    {
     "name": "stdout",
     "output_type": "stream",
     "text": [
      "[1, 3, 4, 9, 10, 12, 13, 27]\n",
      "[0, 1]\n",
      "[0, 1, 3, 4, 9, 10, 12, 13]\n",
      "[0, 1, 3, 4, 9, 10, 12, 13]\n",
      "[1, 4, 10, 13]\n"
     ]
    }
   ],
   "source": [
    "# List slicing syntax list[start:end:step]\n",
    "sequence = [0,1,3,4,9,10,12,13,27]\n",
    "\n",
    "# Get all the elements in the sequence except the first\n",
    "print(sequence[1:])\n",
    "\n",
    "\n",
    "# Get the first two elements\n",
    "print(sequence[0:2])\n",
    "\n",
    "# Get all but the last element\n",
    "print(sequence[:len(sequence)-1])\n",
    "\n",
    "# A more compact way to get all but the last element\n",
    "print(sequence[:-1])\n",
    "\n",
    "# Get every second item starting from the second \n",
    "print(sequence[1::2])"
   ]
  },
  {
   "cell_type": "markdown",
   "id": "southeast-artwork",
   "metadata": {},
   "source": [
    "For more info on lists, including all list methods, please see the [documentation](https://docs.python.org/3/tutorial/datastructures.html)."
   ]
  },
  {
   "cell_type": "markdown",
   "id": "driven-sport",
   "metadata": {},
   "source": [
    "## Dictionaries\n",
    "\n",
    "A dictionary is a set of key/value pairs. Unique keys are mapped to values. Dictionaries are reclared using a comma-separated list of key:value pairs within curly brackets {}. Elements in the dictionary are accessed by using the key in square brackets  \\[key\\]. The keys and values can be of any type."
   ]
  },
  {
   "cell_type": "code",
   "execution_count": 13,
   "id": "fifth-worst",
   "metadata": {},
   "outputs": [
    {
     "name": "stdout",
     "output_type": "stream",
     "text": [
      "0.84\n",
      "0.75\n"
     ]
    }
   ],
   "source": [
    "# Create an empty dictionary\n",
    "empty_dict = {}\n",
    "\n",
    "# Create a list with some initial vlaues\n",
    "student_grades = {'student1': 0.84, 'student2': 0.71}\n",
    "\n",
    "# Get the grade of student1\n",
    "print(student_grades['student1'])\n",
    "\n",
    "# Record the grades of a new student\n",
    "student_grades['student3'] = 0.75\n",
    "print(student_grades['student3'])"
   ]
  },
  {
   "cell_type": "markdown",
   "id": "alone-spending",
   "metadata": {},
   "source": [
    "You can check is a key exists in the a dictionary by using the is keyword. The dictionary method .keys() can be used to get all the keys in a dictionary. Outside the scope of this introduction but the keys() method returns a view object of the keys. It can easily be converted to a list."
   ]
  },
  {
   "cell_type": "code",
   "execution_count": 14,
   "id": "nutritional-visibility",
   "metadata": {},
   "outputs": [
    {
     "name": "stdout",
     "output_type": "stream",
     "text": [
      "Is student1 in the dictionar? True\n",
      "Keys in the dictionary: dict_keys(['student1', 'student2', 'student3'])\n"
     ]
    }
   ],
   "source": [
    "print(\"Is student1 in the dictionar? \" + str('student1' in student_grades))\n",
    "print(\"Keys in the dictionary: \" + str(student_grades.keys()))"
   ]
  },
  {
   "cell_type": "markdown",
   "id": "ideal-scoop",
   "metadata": {},
   "source": [
    "Performing list(d) on a dictionary returns a list of all the keys in the dictionary in the order they were inserted in. "
   ]
  },
  {
   "cell_type": "code",
   "execution_count": 15,
   "id": "retained-blond",
   "metadata": {},
   "outputs": [
    {
     "name": "stdout",
     "output_type": "stream",
     "text": [
      "['student2', 'student1']\n"
     ]
    }
   ],
   "source": [
    "# Put student 2 in the list first \n",
    "student_grades = {'student2': 0.71, 'student1': 0.84}\n",
    "print(list(student_grades))"
   ]
  },
  {
   "cell_type": "markdown",
   "id": "apparent-snowboard",
   "metadata": {},
   "source": [
    "The list method can also be used on the keys object. "
   ]
  },
  {
   "cell_type": "code",
   "execution_count": 16,
   "id": "ordinary-milwaukee",
   "metadata": {},
   "outputs": [
    {
     "name": "stdout",
     "output_type": "stream",
     "text": [
      "['student2', 'student1']\n"
     ]
    }
   ],
   "source": [
    "student_grades = {'student2': 0.71, 'student1': 0.84}\n",
    "print(list(student_grades.keys()))"
   ]
  },
  {
   "cell_type": "markdown",
   "id": "curious-contemporary",
   "metadata": {},
   "source": [
    "More information on dictionaries can be found [here](https://docs.python.org/3/tutorial/datastructures.html#dictionaries)"
   ]
  },
  {
   "cell_type": "markdown",
   "id": "indirect-robert",
   "metadata": {},
   "source": [
    "# Python Flow Control\n",
    "\n",
    "## Conditional Statements\n",
    "\n",
    "Flow control in programming direct the order of execution of code. Conditional statements execute a portion of code only if a certain condition is satisfied. Python determines which code belong to a conditional statement via an indentation of one tab (4 spaces if you live that kind of life). Some examples follow below.\n"
   ]
  },
  {
   "cell_type": "code",
   "execution_count": 17,
   "id": "ideal-ceiling",
   "metadata": {},
   "outputs": [
    {
     "name": "stdout",
     "output_type": "stream",
     "text": [
      "True\n"
     ]
    }
   ],
   "source": [
    "# The general statement for a conditional statement is\n",
    "# if <boolean expression>\n",
    "#     <statement>\n",
    "# The statement belonging to the conditional must be indented 1 tab width\n",
    "# (4 spaces)\n",
    "if 5 > 3:\n",
    "#### 1 tab\n",
    "    print(\"True\")\n"
   ]
  },
  {
   "cell_type": "markdown",
   "id": "convertible-pencil",
   "metadata": {},
   "source": [
    "Conditional statements can be combined using if/elif(else if)/else statements. Subsequent statements are only checked (and possibly executed) if the prior statements were false. Therefore the if is checked first, then all the elif, and lastly the else.\n",
    "\n"
   ]
  },
  {
   "cell_type": "code",
   "execution_count": 18,
   "id": "brutal-sleep",
   "metadata": {},
   "outputs": [
    {
     "name": "stdout",
     "output_type": "stream",
     "text": [
      "x < 7\n"
     ]
    }
   ],
   "source": [
    "x = 7\n",
    "if x < 4:\n",
    "    print(\"< 3\")\n",
    "# Elif statement is only checked if x > 3\n",
    "elif x < 8:\n",
    "    print(\"x < 7\")"
   ]
  },
  {
   "cell_type": "code",
   "execution_count": 20,
   "id": "metallic-gothic",
   "metadata": {},
   "outputs": [
    {
     "name": "stdout",
     "output_type": "stream",
     "text": [
      "x > 7\n"
     ]
    }
   ],
   "source": [
    "x = 9\n",
    "if x < 4:\n",
    "    print(\"< 3\")\n",
    "# Elif statement is only checked if x > 3\n",
    "elif x < 8:\n",
    "    print(\"x < 7\")\n",
    "# Else statement is executed if none of the above are true\n",
    "else:\n",
    "    print(\"x > 7\")\n"
   ]
  },
  {
   "cell_type": "markdown",
   "id": "modular-concentration",
   "metadata": {},
   "source": [
    "Subsequent conditional statements can be stated as nested condinitionals. "
   ]
  },
  {
   "cell_type": "code",
   "execution_count": 19,
   "id": "center-healthcare",
   "metadata": {},
   "outputs": [
    {
     "name": "stdout",
     "output_type": "stream",
     "text": [
      "x < 3\n",
      "but y > 5\n"
     ]
    }
   ],
   "source": [
    "# Test if x and y are both < 5\n",
    "x = 4\n",
    "y = 10\n",
    "if x < 5:\n",
    "    print(\"x < 3\")\n",
    "    if y < 5:\n",
    "        print(\"and y < 5\")\n",
    "    else: \n",
    "        print(\"but y > 5\")\n",
    "else:\n",
    "    print(\"x > 7\")"
   ]
  },
  {
   "cell_type": "markdown",
   "id": "pressed-peninsula",
   "metadata": {},
   "source": [
    "Many conditional statements can be written in many ways combining boolean logic statements and/or conditional statements. Write them in whichever way you prefer as long as the logic is correct!"
   ]
  },
  {
   "cell_type": "code",
   "execution_count": 21,
   "id": "orange-polyester",
   "metadata": {},
   "outputs": [
    {
     "name": "stdout",
     "output_type": "stream",
     "text": [
      "x and y is True\n",
      "x and y is True\n"
     ]
    }
   ],
   "source": [
    "x = True\n",
    "y = True\n",
    "\n",
    "# If x and y can also be written with nested conditionals\n",
    "if x:\n",
    "    if y:\n",
    "        print(\"x and y is True\")\n",
    "    else:\n",
    "        print(\"a and y is False\")\n",
    "\n",
    "# Unrelated conditional statement need the indentation to be reset!\n",
    "if x and y:\n",
    "    print(\"x and y is True\")\n",
    "else:\n",
    "    print(\"x and y is False\")"
   ]
  },
  {
   "cell_type": "markdown",
   "id": "prerequisite-resident",
   "metadata": {},
   "source": [
    "## Loops\n",
    "\n",
    "Loops are used to specify iteration which allows code to be executed repeatedly. There are two types of loops in python, for loops and while loops.\n",
    "\n",
    "### For loops\n",
    "\n",
    "for loops in python are used to iterate over the items in a sequence (e.g., a list), in the order that they appear in the sequence. The range() function in python can be used to specify a sequence of numbers in python. The syntax for the range function is similar to list splicing: range(start,end,step). Note that the start value is included in the sequnce while the stop is not."
   ]
  },
  {
   "cell_type": "code",
   "execution_count": 22,
   "id": "monthly-estate",
   "metadata": {},
   "outputs": [
    {
     "name": "stdout",
     "output_type": "stream",
     "text": [
      "0\n",
      "1\n",
      "2\n",
      "3\n"
     ]
    }
   ],
   "source": [
    "# Use range to iterate over 0-3\n",
    "for i in range(4):\n",
    "    print(i)"
   ]
  },
  {
   "cell_type": "code",
   "execution_count": 24,
   "id": "binding-buyer",
   "metadata": {},
   "outputs": [
    {
     "name": "stdout",
     "output_type": "stream",
     "text": [
      "4\n",
      "6\n",
      "8\n"
     ]
    }
   ],
   "source": [
    "# Use range to iterate from 4:8 in staps of 2\n",
    "for i in range(4,9,2):\n",
    "    print(i)"
   ]
  },
  {
   "cell_type": "code",
   "execution_count": 23,
   "id": "generous-domain",
   "metadata": {},
   "outputs": [
    {
     "name": "stdout",
     "output_type": "stream",
     "text": [
      "string\n",
      "3\n",
      "False\n"
     ]
    }
   ],
   "source": [
    "# The for statement can be used to iterate over any sequence\n",
    "items = ['string', 3, False]\n",
    "for i in items:\n",
    "    print(i)"
   ]
  },
  {
   "cell_type": "code",
   "execution_count": 25,
   "id": "going-spirituality",
   "metadata": {},
   "outputs": [
    {
     "name": "stdout",
     "output_type": "stream",
     "text": [
      "string\n",
      "3\n",
      "False\n"
     ]
    }
   ],
   "source": [
    "# Alternately the range function can be used to iterate over the indexes \n",
    "# of a list\n",
    "for i in range(len(items)):\n",
    "    print(items[i])"
   ]
  },
  {
   "cell_type": "markdown",
   "id": "dependent-naples",
   "metadata": {},
   "source": [
    "### While loops\n",
    "\n",
    "The while loop executes a code statement as long as a set of conditions is true."
   ]
  },
  {
   "cell_type": "code",
   "execution_count": 26,
   "id": "solid-isaac",
   "metadata": {},
   "outputs": [
    {
     "name": "stdout",
     "output_type": "stream",
     "text": [
      "0\n",
      "1\n",
      "2\n",
      "3\n",
      "4\n"
     ]
    }
   ],
   "source": [
    "i = 0\n",
    "while i < 5:\n",
    "    print(i)\n",
    "    i = i + 1    "
   ]
  },
  {
   "cell_type": "markdown",
   "id": "vocal-hammer",
   "metadata": {},
   "source": [
    "# Function, Methods, Classes, and  Objects\n",
    "\n",
    "Since a detailed dive into functions, methods and objects is outside the scope of this course we will only discuss briefly what methods and objects are and focus mainly on how you will need to interact with them within this course.\n",
    "\n",
    "## Functions and Methods.\n",
    "\n",
    "Functions are \"self contained\" modules of code that accomplish a specific task. Functions typically take in some inputs (called arguments), manipulate them, and return a result. The main purpose of functions is to be able to reuse code without having to copy/paste it. An example function definition follows. Functions are defined using the following format:\n",
    "def function_name (arguments)"
   ]
  },
  {
   "cell_type": "code",
   "execution_count": 27,
   "id": "saving-album",
   "metadata": {},
   "outputs": [
    {
     "name": "stdout",
     "output_type": "stream",
     "text": [
      "4.6\n"
     ]
    }
   ],
   "source": [
    "# Define a function to calculate the average of a list of numbers\n",
    "def compute_average(list_of_numbers):\n",
    "    average = 0\n",
    "    for i in list_of_numbers:\n",
    "        average += i\n",
    "    return average/len(list_of_numbers)\n",
    "\n",
    "numbers = [1,8,3,9,2]\n",
    "# Call the function and get the results\n",
    "average = compute_average(numbers)\n",
    "print(average)"
   ]
  },
  {
   "cell_type": "markdown",
   "id": "sustainable-disclosure",
   "metadata": {},
   "source": [
    "## Classes and Objects\n",
    "\n",
    "While you will not need to create your own classes for the course, you will need a basic understanding of them to be able to interact with them. \n",
    "\n",
    "A class is a code template for creating objects which provides initial values for state and behaviour implementations. An object or instance of a class is instantiated or created via the class constructor. Typically a class is used to define a set of possible objects and their associated behaviours where an object is a specific member of the set.\n",
    "\n",
    "The behaviours associated with a class are implemented as methods. We will focus mainly on calling class method because that is what you will typically deal with in this course. Methods and variables associated with a class or instance can be accessed as follows object.method_name \n",
    "\n",
    "Again, you will probably not need to know how to create a class but we create a simple example to illustrate how to interact with the object.\n"
   ]
  },
  {
   "cell_type": "code",
   "execution_count": 28,
   "id": "gothic-turner",
   "metadata": {},
   "outputs": [
    {
     "name": "stdout",
     "output_type": "stream",
     "text": [
      "0.03141592000000001\n"
     ]
    }
   ],
   "source": [
    "# Define a class of circles (generic - represents a set of circles)\n",
    "class Circle:\n",
    "    # Class constructor - a circle needs a radius\n",
    "    # Self is a pythonic reference to the current object\n",
    "    def __init__(self, radius):\n",
    "        self.radius = radius\n",
    "        \n",
    "    # A method to calculate the area of a given circle    \n",
    "    def calculate_area(self):\n",
    "        return 3.141592 * self.radius * self.radius\n",
    "    \n",
    "# Create an object representing a specific circle with radius 0.1\n",
    "small_circle = Circle(0.1)\n",
    "\n",
    "# Object methods can be \n",
    "area = small_circle.calculate_area()\n",
    "print(area)"
   ]
  },
  {
   "cell_type": "code",
   "execution_count": 29,
   "id": "alert-scale",
   "metadata": {},
   "outputs": [
    {
     "name": "stdout",
     "output_type": "stream",
     "text": [
      "314159200.0\n"
     ]
    }
   ],
   "source": [
    "# Create a bigger circle\n",
    "huge_circle = Circle(10000)\n",
    "huge_circle_area = huge_circle.calculate_area()\n",
    "print(huge_circle_area)"
   ]
  },
  {
   "cell_type": "markdown",
   "id": "pediatric-detector",
   "metadata": {},
   "source": [
    "# Importing Modules/Libraries\n",
    "\n",
    "One of the major benefits to using python (and one of the main reasons it's so popular in industry) is that it contains a large number of open source modules or libraries for a huge range of topics.\n",
    "\n",
    "The Anaconda python distribution was chosen because it comes prepackaged with some of the most popular data science/engineering libraries some of which we will be using in this course. The main libraries we will be using are [numpy](https://numpy.org/), [pandas](https://pandas.pydata.org/), and [matplotlib](https://matplotlib.org/). Additional guides like this will be posted throughout the course to help you learn how to use these libraries.\n",
    "\n",
    "Libraries can be included in your code using the \"import\" keyword"
   ]
  },
  {
   "cell_type": "code",
   "execution_count": 30,
   "id": "excited-savings",
   "metadata": {},
   "outputs": [
    {
     "name": "stdout",
     "output_type": "stream",
     "text": [
      "3.0\n"
     ]
    }
   ],
   "source": [
    "import numpy as np\n",
    "print(np.sqrt(9))"
   ]
  },
  {
   "cell_type": "markdown",
   "id": "environmental-hotel",
   "metadata": {},
   "source": [
    "# General Remarks\n",
    "\n",
    "The libraries and methods we use in this class are well studied and well taught. Googling code-related questions you have will often lead to answers. Additionally if you're unsure about what functionality a library has, or how exactly to use it the documentation for these libraries are quite good and have lots of examples. "
   ]
  }
 ],
 "metadata": {
  "kernelspec": {
   "display_name": "Python 3",
   "language": "python",
   "name": "python3"
  },
  "language_info": {
   "codemirror_mode": {
    "name": "ipython",
    "version": 3
   },
   "file_extension": ".py",
   "mimetype": "text/x-python",
   "name": "python",
   "nbconvert_exporter": "python",
   "pygments_lexer": "ipython3",
   "version": "3.8.3"
  }
 },
 "nbformat": 4,
 "nbformat_minor": 5
}
