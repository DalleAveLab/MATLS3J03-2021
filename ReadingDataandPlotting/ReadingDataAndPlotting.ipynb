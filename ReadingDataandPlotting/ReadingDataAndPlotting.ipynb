{
 "cells": [
  {
   "cell_type": "markdown",
   "id": "dressed-applicant",
   "metadata": {},
   "source": [
    "# Reading data into python\n",
    "\n",
    "The data you will analyze in this course will be provided in CSV format. The easiest way to read csv data into Python is via the [pandas Library](https://pandas.pydata.org/). Pandas provides conveinent data structures to manipulate and analyze data. Consider taking a look at the [10 minute intro to pandas](https://pandas.pydata.org/pandas-docs/stable/user_guide/10min.html).\n",
    "\n",
    "## Reading data into python with pandas\n",
    "\n",
    "The first step to using pandas in your script is to import it."
   ]
  },
  {
   "cell_type": "code",
   "execution_count": 1,
   "id": "radio-possibility",
   "metadata": {},
   "outputs": [],
   "source": [
    "import pandas as pd"
   ]
  },
  {
   "cell_type": "markdown",
   "id": "apart-uncertainty",
   "metadata": {},
   "source": [
    "Next the read_csv(path_to_file) can be used to automatically read and parse your csv. The only required arguement is the path to the csv file as a string or path object. The file can be hosted locally on your computer or online. Documentation for this method can be found [here](https://pandas.pydata.org/pandas-docs/dev/reference/api/pandas.read_csv.html).\n",
    "\n",
    "In this example we'll use the boards thickness dataset we talked about in class."
   ]
  },
  {
   "cell_type": "code",
   "execution_count": 2,
   "id": "connected-terry",
   "metadata": {},
   "outputs": [
    {
     "name": "stdout",
     "output_type": "stream",
     "text": [
      "                Date.Time  Pos1  Pos2  Pos3  Pos4  Pos5  Pos6\n",
      "0     2010-02-18 03:04:46  1761  1739  1758  1677  1684  1692\n",
      "1     2010-02-18 03:37:01  1801  1688  1753  1741  1692  1675\n",
      "2     2010-02-18 03:37:01  1697  1682  1663  1671  1685  1651\n",
      "3     2010-02-18 03:37:01  1679  1712  1672  1703  1683  1674\n",
      "4     2010-02-18 03:37:10  1699  1688  1699  1678  1688  1705\n",
      "...                   ...   ...   ...   ...   ...   ...   ...\n",
      "4995  2010-02-18 13:15:54  1690  1701  1690  1694  1735  1695\n",
      "4996  2010-02-18 13:15:54  1703  1674  1666  1694  1659  1728\n",
      "4997  2010-02-18 13:16:02  1657  1667  1675  1654  1648  1609\n",
      "4998  2010-02-18 13:16:02  1746  1717  1638  1723  1703  1706\n",
      "4999  2010-02-18 13:16:02  1668  1680  1668  1669  1651  1629\n",
      "\n",
      "[5000 rows x 7 columns]\n"
     ]
    }
   ],
   "source": [
    "# In this case we'll use the board thickness example\n",
    "all_boards = pd.read_csv(\"https://openmv.net/file/six-point-board-thickness.csv\")\n",
    "print(all_boards)"
   ]
  },
  {
   "cell_type": "markdown",
   "id": "sealed-transcription",
   "metadata": {},
   "source": [
    "The read_csv method imports the csv data as a pandas dataframe. The dataframe provides convenient built in ways to query the data, manipulate the data, and analyze the data. \n",
    "\n",
    "Like the data, the dataframe in this case has 5000 rows and 7 columns. The column names can be found with the .columns property"
   ]
  },
  {
   "cell_type": "code",
   "execution_count": 3,
   "id": "numerical-trade",
   "metadata": {},
   "outputs": [
    {
     "name": "stdout",
     "output_type": "stream",
     "text": [
      "Index(['Date.Time', 'Pos1', 'Pos2', 'Pos3', 'Pos4', 'Pos5', 'Pos6'], dtype='object')\n"
     ]
    }
   ],
   "source": [
    "print(all_boards.columns)"
   ]
  },
  {
   "cell_type": "markdown",
   "id": "celtic-sociology",
   "metadata": {},
   "source": [
    "## Accessing elements and manipulating data\n",
    "\n",
    "In this case, we're only interested in the board positions. The time the measurements were taken don't matter to us so we can drop that column (Date.Time) from the dataframe using the [.drop() method](https://pandas.pydata.org/pandas-docs/stable/reference/api/pandas.DataFrame.drop.html). Note that all of these data manipulation operators return another dataframe object so the same methods are applicable to the transformed data as well."
   ]
  },
  {
   "cell_type": "code",
   "execution_count": 4,
   "id": "adopted-cowboy",
   "metadata": {},
   "outputs": [
    {
     "name": "stdout",
     "output_type": "stream",
     "text": [
      "      Pos1  Pos2  Pos3  Pos4  Pos5  Pos6\n",
      "0     1761  1739  1758  1677  1684  1692\n",
      "1     1801  1688  1753  1741  1692  1675\n",
      "2     1697  1682  1663  1671  1685  1651\n",
      "3     1679  1712  1672  1703  1683  1674\n",
      "4     1699  1688  1699  1678  1688  1705\n",
      "...    ...   ...   ...   ...   ...   ...\n",
      "4995  1690  1701  1690  1694  1735  1695\n",
      "4996  1703  1674  1666  1694  1659  1728\n",
      "4997  1657  1667  1675  1654  1648  1609\n",
      "4998  1746  1717  1638  1723  1703  1706\n",
      "4999  1668  1680  1668  1669  1651  1629\n",
      "\n",
      "[5000 rows x 6 columns]\n"
     ]
    }
   ],
   "source": [
    "boards_no_time = all_boards.drop(columns=[\"Date.Time\"])\n",
    "print(boards_no_time)"
   ]
  },
  {
   "cell_type": "markdown",
   "id": "special-absorption",
   "metadata": {},
   "source": [
    "Columns can be access by using their name in square brackers \\[\\] while rows can be access using their row (index) number and the [.iloc](https://pandas.pydata.org/docs/reference/api/pandas.DataFrame.iloc.html) property. iloc works similar to indexing on a list, the same type of slicing can be used \\[start:end\\]."
   ]
  },
  {
   "cell_type": "code",
   "execution_count": 5,
   "id": "valuable-february",
   "metadata": {},
   "outputs": [
    {
     "name": "stdout",
     "output_type": "stream",
     "text": [
      "0       1761\n",
      "1       1801\n",
      "2       1697\n",
      "3       1679\n",
      "4       1699\n",
      "        ... \n",
      "4995    1690\n",
      "4996    1703\n",
      "4997    1657\n",
      "4998    1746\n",
      "4999    1668\n",
      "Name: Pos1, Length: 5000, dtype: int64\n"
     ]
    }
   ],
   "source": [
    "pos1 = boards_no_time['Pos1']\n",
    "print(pos1)"
   ]
  },
  {
   "cell_type": "code",
   "execution_count": 6,
   "id": "single-response",
   "metadata": {},
   "outputs": [
    {
     "name": "stdout",
     "output_type": "stream",
     "text": [
      "   Pos1  Pos2  Pos3  Pos4  Pos5  Pos6\n",
      "0  1761  1739  1758  1677  1684  1692\n",
      "1  1801  1688  1753  1741  1692  1675\n",
      "2  1697  1682  1663  1671  1685  1651\n"
     ]
    }
   ],
   "source": [
    "# Get the first three rows of the dataframe\n",
    "first_three_rows = boards_no_time.iloc[0:3]\n",
    "print(first_three_rows)"
   ]
  },
  {
   "cell_type": "markdown",
   "id": "resistant-right",
   "metadata": {},
   "source": [
    "You can use the .head() or .tail() methods to get a certain amount of elements from the top (head) or bottom (tail) of the dataframe. Syntactically they're the same, so I'll only show an example of one"
   ]
  },
  {
   "cell_type": "code",
   "execution_count": 7,
   "id": "confused-glasgow",
   "metadata": {},
   "outputs": [
    {
     "name": "stdout",
     "output_type": "stream",
     "text": [
      "   Pos1  Pos2  Pos3  Pos4  Pos5  Pos6\n",
      "0  1761  1739  1758  1677  1684  1692\n",
      "1  1801  1688  1753  1741  1692  1675\n",
      "2  1697  1682  1663  1671  1685  1651\n"
     ]
    }
   ],
   "source": [
    "# Get the first three rows of pos 1 using head\n",
    "first_three_rows = boards_no_time.head(3)\n",
    "print(first_three_rows)"
   ]
  },
  {
   "cell_type": "markdown",
   "id": "solved-booking",
   "metadata": {},
   "source": [
    "Row and column access can also be combined together. The head and tail methods would work here as well."
   ]
  },
  {
   "cell_type": "code",
   "execution_count": 8,
   "id": "threaded-internet",
   "metadata": {},
   "outputs": [
    {
     "name": "stdout",
     "output_type": "stream",
     "text": [
      "0    1761\n",
      "1    1801\n",
      "2    1697\n",
      "Name: Pos1, dtype: int64\n"
     ]
    }
   ],
   "source": [
    "first_column_three_rows = boards_no_time['Pos1'].iloc[0:3]\n",
    "print(first_column_three_rows)"
   ]
  },
  {
   "cell_type": "markdown",
   "id": "working-medication",
   "metadata": {},
   "source": [
    "It is also possible to filter the dataframe based on the value in certain columns. Filtering the values returns a new dataframe with just the values that meet the condition (using the [.loc](https://pandas.pydata.org/docs/reference/api/pandas.DataFrame.loc.html) property). "
   ]
  },
  {
   "cell_type": "code",
   "execution_count": 9,
   "id": "foster-vertex",
   "metadata": {},
   "outputs": [
    {
     "name": "stdout",
     "output_type": "stream",
     "text": [
      "      Pos1  Pos2  Pos3  Pos4  Pos5  Pos6\n",
      "10    1546  1697  1654  1688  1668  1703\n",
      "11    1524  1668  1594  1686  1741  1730\n",
      "23    1608  1664  1641  1651  1633  1594\n",
      "48    1636  1650  1649  1666  1673  1665\n",
      "55    1643  1649  1624  1667  1662  1660\n",
      "...    ...   ...   ...   ...   ...   ...\n",
      "4932  1632  1608  1634  1667  1674  1706\n",
      "4933  1619  1692  1696  1711  1742  1728\n",
      "4961  1622  1627  1641  1664  1663  1660\n",
      "4969  1645  1680  1658  1747  1793  1808\n",
      "4974  1648  1612  1620  1637  1611  1694\n",
      "\n",
      "[539 rows x 6 columns]\n"
     ]
    }
   ],
   "source": [
    "# Get all columns (the whole dataframe) rows which have pos1 < 1650\n",
    "less_1650 = boards_no_time.loc[boards_no_time['Pos1'] < 1650]\n",
    "print(less_1650)"
   ]
  },
  {
   "cell_type": "code",
   "execution_count": 10,
   "id": "composite-chaos",
   "metadata": {},
   "outputs": [
    {
     "name": "stdout",
     "output_type": "stream",
     "text": [
      "      Pos1\n",
      "10    1546\n",
      "11    1524\n",
      "23    1608\n",
      "48    1636\n",
      "55    1643\n",
      "...    ...\n",
      "4932  1632\n",
      "4933  1619\n",
      "4961  1622\n",
      "4969  1645\n",
      "4974  1648\n",
      "\n",
      "[539 rows x 1 columns]\n"
     ]
    }
   ],
   "source": [
    "# Get only pos1 values for rows with pos1 < 1650\n",
    "pos1_less_1650 = boards_no_time.loc[boards_no_time['Pos1'] < 1650, ['Pos1']]\n",
    "print(pos1_less_1650)"
   ]
  },
  {
   "cell_type": "markdown",
   "id": "forbidden-newspaper",
   "metadata": {},
   "source": [
    "Separate conditionals can be combined using boolean logic. In this case each conditional needs to be written in round brackets and the symbols change slightly. The element-wise logical symbols for use in these statements are:\n",
    "* and: &\n",
    "* or: |\n",
    "* not: ~ "
   ]
  },
  {
   "cell_type": "code",
   "execution_count": 11,
   "id": "disturbed-collins",
   "metadata": {},
   "outputs": [
    {
     "name": "stdout",
     "output_type": "stream",
     "text": [
      "      Pos1  Pos2  Pos3  Pos4  Pos5  Pos6\n",
      "23    1608  1664  1641  1651  1633  1594\n",
      "48    1636  1650  1649  1666  1673  1665\n",
      "55    1643  1649  1624  1667  1662  1660\n",
      "84    1618  1603  1607  1652  1666  1657\n",
      "86    1645  1685  1694  1705  1644  1542\n",
      "...    ...   ...   ...   ...   ...   ...\n",
      "4932  1632  1608  1634  1667  1674  1706\n",
      "4933  1619  1692  1696  1711  1742  1728\n",
      "4961  1622  1627  1641  1664  1663  1660\n",
      "4969  1645  1680  1658  1747  1793  1808\n",
      "4974  1648  1612  1620  1637  1611  1694\n",
      "\n",
      "[465 rows x 6 columns]\n"
     ]
    }
   ],
   "source": [
    "# Get all columns that have 1600 < pos1 < 1650\n",
    "between_1600_1650 = boards_no_time.loc[(boards_no_time['Pos1'] > 1600) & (boards_no_time['Pos1'] < 1650)]\n",
    "print(between_1600_1650)"
   ]
  },
  {
   "cell_type": "markdown",
   "id": "formed-present",
   "metadata": {},
   "source": [
    "Alternately, the .query() method can be used to succinctly query the dataframe."
   ]
  },
  {
   "cell_type": "code",
   "execution_count": 12,
   "id": "leading-spokesman",
   "metadata": {},
   "outputs": [
    {
     "name": "stdout",
     "output_type": "stream",
     "text": [
      "      Pos1  Pos2  Pos3  Pos4  Pos5  Pos6\n",
      "23    1608  1664  1641  1651  1633  1594\n",
      "48    1636  1650  1649  1666  1673  1665\n",
      "55    1643  1649  1624  1667  1662  1660\n",
      "84    1618  1603  1607  1652  1666  1657\n",
      "86    1645  1685  1694  1705  1644  1542\n",
      "...    ...   ...   ...   ...   ...   ...\n",
      "4932  1632  1608  1634  1667  1674  1706\n",
      "4933  1619  1692  1696  1711  1742  1728\n",
      "4961  1622  1627  1641  1664  1663  1660\n",
      "4969  1645  1680  1658  1747  1793  1808\n",
      "4974  1648  1612  1620  1637  1611  1694\n",
      "\n",
      "[465 rows x 6 columns]\n"
     ]
    }
   ],
   "source": [
    "# Get all columns that have 1600 < pos1 < 1650\n",
    "between_1600_1650 = boards_no_time.query(\"1600 < Pos1 < 1650\")\n",
    "print(between_1600_1650)"
   ]
  },
  {
   "cell_type": "markdown",
   "id": "other-baseball",
   "metadata": {},
   "source": [
    "## Plotting data\n",
    "\n",
    "Now we can create a box plot of the data. To create plots we need to import the matplotlib library, specifically the [pyplot module](https://matplotlib.org/stable/api/_as_gen/matplotlib.pyplot.html). Pandas provides many different [visualization options](https://pandas.pydata.org/pandas-docs/stable/user_guide/visualization.html#)."
   ]
  },
  {
   "cell_type": "code",
   "execution_count": 13,
   "id": "fossil-tactics",
   "metadata": {},
   "outputs": [
    {
     "data": {
      "image/png": "[encoded data removed]",
      "text/plain": [
       "<Figure size 432x288 with 1 Axes>"
      ]
     },
     "metadata": {
      "needs_background": "light"
     },
     "output_type": "display_data"
    }
   ],
   "source": [
    "import matplotlib.pyplot as plt\n",
    "axis = boards_no_time.boxplot()\n",
    "plt.show()"
   ]
  },
  {
   "cell_type": "markdown",
   "id": "corrected-circle",
   "metadata": {},
   "source": [
    "The plot has been created but it doesn't look great. Let's play with some of the plot setting."
   ]
  },
  {
   "cell_type": "code",
   "execution_count": 14,
   "id": "collective-attitude",
   "metadata": {},
   "outputs": [
    {
     "data": {
      "image/png": "[encoded data removed]",
      "text/plain": [
       "<Figure size 720x432 with 1 Axes>"
      ]
     },
     "metadata": {
      "needs_background": "light"
     },
     "output_type": "display_data"
    }
   ],
   "source": [
    "# Make the figure larger, make the font larger, remove the grid lines\n",
    "# change the box plot colours to all black\n",
    "axis = boards_no_time.boxplot(figsize=(10,6),fontsize=14,grid=False,\n",
    "                              boxprops=dict(color='k'),\n",
    "                              medianprops=dict(color='k'),\n",
    "                              whiskerprops=dict(color='k'))\n",
    "plt.show()"
   ]
  },
  {
   "cell_type": "markdown",
   "id": "available-anniversary",
   "metadata": {},
   "source": [
    "The same figure can be made directly using matplotlib."
   ]
  },
  {
   "cell_type": "code",
   "execution_count": 15,
   "id": "prime-movement",
   "metadata": {
    "scrolled": false
   },
   "outputs": [
    {
     "data": {
      "image/png": "[encoded data removed]",
      "text/plain": [
       "<Figure size 432x288 with 1 Axes>"
      ]
     },
     "metadata": {
      "needs_background": "light"
     },
     "output_type": "display_data"
    }
   ],
   "source": [
    "# Create the plot\n",
    "fix, ax = plt.subplots()\n",
    "ax.boxplot(boards_no_time, labels=boards_no_time.columns,\n",
    "                           boxprops=dict(color='k'),\n",
    "                           medianprops=dict(color='k'),\n",
    "                           whiskerprops=dict(color='k'))\n",
    "# Change the font and figure size - changes the settings for all subsequent figures\n",
    "plt.rc('xtick', labelsize = 14)\n",
    "plt.rc('ytick', labelsize = 14)\n",
    "plt.rc('figure', figsize = [10,6]) \n",
    "plt.show()"
   ]
  },
  {
   "cell_type": "markdown",
   "id": "difficult-swedish",
   "metadata": {},
   "source": [
    "Let's use the dataframe to make a bar plot of the averages of each of the columns now. We'll come back more to the statistical functionalities of these libraries later in the course."
   ]
  },
  {
   "cell_type": "code",
   "execution_count": 16,
   "id": "fourth-runner",
   "metadata": {},
   "outputs": [
    {
     "name": "stdout",
     "output_type": "stream",
     "text": [
      "Pos1    1689.3934\n",
      "Pos2    1680.9126\n",
      "Pos3    1678.2108\n",
      "Pos4    1687.3510\n",
      "Pos5    1682.8952\n",
      "Pos6    1681.5778\n",
      "dtype: float64\n"
     ]
    }
   ],
   "source": [
    "# Calucalte the mean for all columns\n",
    "mean = boards_no_time.mean()\n",
    "print(mean)"
   ]
  },
  {
   "cell_type": "code",
   "execution_count": 17,
   "id": "light-contamination",
   "metadata": {},
   "outputs": [
    {
     "data": {
      "image/png": "[encoded data removed]",
      "text/plain": [
       "<Figure size 720x432 with 1 Axes>"
      ]
     },
     "metadata": {
      "needs_background": "light"
     },
     "output_type": "display_data"
    }
   ],
   "source": [
    "# Create the bar plot\n",
    "ax = mean.plot.bar()\n",
    "plt.show()"
   ]
  },
  {
   "cell_type": "markdown",
   "id": "legal-citizen",
   "metadata": {},
   "source": [
    "Plots can also be created using chained commands."
   ]
  },
  {
   "cell_type": "code",
   "execution_count": 18,
   "id": "acute-czech",
   "metadata": {},
   "outputs": [
    {
     "data": {
      "image/png": "[encoded data removed]",
      "text/plain": [
       "<Figure size 720x432 with 1 Axes>"
      ]
     },
     "metadata": {
      "needs_background": "light"
     },
     "output_type": "display_data"
    }
   ],
   "source": [
    "ax = boards_no_time.mean().plot.bar()\n",
    "plt.show()"
   ]
  },
  {
   "cell_type": "markdown",
   "id": "stupid-clothing",
   "metadata": {},
   "source": [
    "Lastly the axis option can be used in many scenarios to change which axis in the dataframe is being operated on. Usually the default axis=0, meaning that the method will operate on the rows (in the bar plot above, the average is computed by summing up the rows for each column). By specifying axis=1 the columns will be the axis of operation (the average is computed by summing up the columns for all rows). We'll show an example using a line plot. The line plot will have 5000 values on the x-axis (one for each row in the dataframe)."
   ]
  },
  {
   "cell_type": "code",
   "execution_count": 19,
   "id": "restricted-agriculture",
   "metadata": {},
   "outputs": [
    {
     "data": {
      "image/png": "[encoded data removed]",
      "text/plain": [
       "<Figure size 720x432 with 1 Axes>"
      ]
     },
     "metadata": {
      "needs_background": "light"
     },
     "output_type": "display_data"
    }
   ],
   "source": [
    "ax = boards_no_time.mean(axis=1).plot()\n",
    "plt.show()"
   ]
  },
  {
   "cell_type": "markdown",
   "id": "hired-beginning",
   "metadata": {},
   "source": [
    "We will not cover an example of every plot. The general syntax for the different plots is similar. Please check the documentation of the specific plot you want to make to learn about the different plot options. Additionally, these libraries are so widely used that you can typically find the answer to your questions by googling them."
   ]
  }
 ],
 "metadata": {
  "kernelspec": {
   "display_name": "Python 3",
   "language": "python",
   "name": "python3"
  },
  "language_info": {
   "codemirror_mode": {
    "name": "ipython",
    "version": 3
   },
   "file_extension": ".py",
   "mimetype": "text/x-python",
   "name": "python",
   "nbconvert_exporter": "python",
   "pygments_lexer": "ipython3",
   "version": "3.8.3"
  }
 },
 "nbformat": 4,
 "nbformat_minor": 5
}
