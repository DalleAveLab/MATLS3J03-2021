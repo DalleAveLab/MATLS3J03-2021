{
 "cells": [
  {
   "cell_type": "markdown",
   "id": "wicked-jesus",
   "metadata": {},
   "source": [
    "# Least Squares Methodologies with Python\n",
    "\n",
    "In this notebook we will go over an example of how to perform Ordinary Least Squares regression (single x + y) as well as Multiple Linear Regression using python. We will also look at generating autocorrelation plots.\n",
    "\n",
    "As usual we start by importing the data."
   ]
  },
  {
   "cell_type": "code",
   "execution_count": 1,
   "id": "increasing-health",
   "metadata": {},
   "outputs": [
    {
     "name": "stdout",
     "output_type": "stream",
     "text": [
      "       x    y          z\n",
      "0   -5.0 -5.0 -15.126964\n",
      "1   -4.5 -5.0 -19.835269\n",
      "2   -4.0 -5.0 -17.584515\n",
      "3   -3.5 -5.0 -17.218906\n",
      "4   -3.0 -5.0  -9.403777\n",
      "..   ...  ...        ...\n",
      "436  3.0  5.0   3.399930\n",
      "437  3.5  5.0   7.101061\n",
      "438  4.0  5.0   8.426533\n",
      "439  4.5  5.0  13.369264\n",
      "440  5.0  5.0  11.353852\n",
      "\n",
      "[441 rows x 3 columns]\n"
     ]
    }
   ],
   "source": [
    "import os\n",
    "import pandas as pd\n",
    "import numpy as np\n",
    "data = pd.read_csv(os.getcwd() + os.sep + \"regressiondata.csv\", index_col = \"Unnamed: 0\")\n",
    "print(data)"
   ]
  },
  {
   "cell_type": "markdown",
   "id": "hollow-health",
   "metadata": {},
   "source": [
    "## Least Squares Regression with a Single Variable\n",
    "\n",
    "In our data set we have z as the dependent variable, and x and y as the independent variables. We will first analyze how our model performs using just the x variable to predict z.\n",
    "\n",
    "Regression models can be built in python using the `from statsmodels.formula.api` library, which contains an `ols` class. The ols class takes as input a DataFrame as well as a string expression indicating which form the regression model should take based on the column names of the dataframe. The general format is \"dependent_var_col_name ~ independent_var1_col_name + independent_var2_col_name + ...\". This is easier shown with an example."
   ]
  },
  {
   "cell_type": "code",
   "execution_count": 2,
   "id": "characteristic-migration",
   "metadata": {},
   "outputs": [],
   "source": [
    "from statsmodels.formula.api import ols\n",
    "\n",
    "model = ols(\"z ~ x\", data)\n",
    "results = model.fit()\n"
   ]
  },
  {
   "cell_type": "markdown",
   "id": "widespread-victoria",
   "metadata": {},
   "source": [
    "In the above example we are building a model to predict z (the dependent variable) based on the values of x (the independent variable). The `ols` command create the ols model object while the `.fit()` command computes the regression model and returns the model results. Let's see what's contained in the results of the model."
   ]
  },
  {
   "cell_type": "code",
   "execution_count": 3,
   "id": "mighty-variety",
   "metadata": {},
   "outputs": [
    {
     "name": "stdout",
     "output_type": "stream",
     "text": [
      "                            OLS Regression Results                            \n",
      "==============================================================================\n",
      "Dep. Variable:                      z   R-squared:                       0.893\n",
      "Model:                            OLS   Adj. R-squared:                  0.892\n",
      "Method:                 Least Squares   F-statistic:                     3649.\n",
      "Date:                Tue, 02 Nov 2021   Prob (F-statistic):          7.92e-215\n",
      "Time:                        17:45:26   Log-Likelihood:                -1263.5\n",
      "No. Observations:                 441   AIC:                             2531.\n",
      "Df Residuals:                     439   BIC:                             2539.\n",
      "Df Model:                           1                                         \n",
      "Covariance Type:            nonrobust                                         \n",
      "==============================================================================\n",
      "                 coef    std err          t      P>|t|      [0.025      0.975]\n",
      "------------------------------------------------------------------------------\n",
      "Intercept     -4.8145      0.203    -23.753      0.000      -5.213      -4.416\n",
      "x              4.0440      0.067     60.407      0.000       3.912       4.176\n",
      "==============================================================================\n",
      "Omnibus:                        2.929   Durbin-Watson:                   1.002\n",
      "Prob(Omnibus):                  0.231   Jarque-Bera (JB):                2.879\n",
      "Skew:                          -0.154   Prob(JB):                        0.237\n",
      "Kurtosis:                       2.750   Cond. No.                         3.03\n",
      "==============================================================================\n",
      "\n",
      "Notes:\n",
      "[1] Standard Errors assume that the covariance matrix of the errors is correctly specified.\n"
     ]
    }
   ],
   "source": [
    "print(results.summary())"
   ]
  },
  {
   "cell_type": "markdown",
   "id": "rapid-malta",
   "metadata": {},
   "source": [
    "In this example:\n",
    "* The intercept term (b0) = -4.8145\n",
    "* The slope term (b1) = 4.0440 - this implies that on average a unit increase in x results in an increase of z of 4.0440 units\n",
    "* The z-value for the intercept term is -23.753 - Python calls this the t-value because it comes from the t-distribution but in our notes we called it the z-value\n",
    "* The 95% confidence interval bounds for the intercept are \\[-5.213, -4.416\\]. \n",
    "* The 95% confidence intervals for the slope term are \\[3.912, 4.176\\].\n",
    "* The confidence intervals do not cross zero meaning that zero is not a plausible value for the coefficients. x therefore significantly impacts the value of z.\n",
    "* The $R^2$ value is 0.893\n"
   ]
  },
  {
   "cell_type": "markdown",
   "id": "formed-tiffany",
   "metadata": {},
   "source": [
    "Let's investigate the results in more detail by checking the ANOVA table. ANOVA related methods canm be found in the `statsmodels.stats.anova` library in the `anova_lm` class."
   ]
  },
  {
   "cell_type": "code",
   "execution_count": 4,
   "id": "dressed-captain",
   "metadata": {},
   "outputs": [
    {
     "name": "stdout",
     "output_type": "stream",
     "text": [
      "             df        sum_sq       mean_sq            F         PR(>F)\n",
      "x           1.0  66110.897036  66110.897036  3649.019713  7.922701e-215\n",
      "Residual  439.0   7953.556321     18.117440          NaN            NaN\n"
     ]
    }
   ],
   "source": [
    "from statsmodels.stats.anova import anova_lm\n",
    "anova_results = anova_lm(results)\n",
    "print(anova_results)"
   ]
  },
  {
   "cell_type": "markdown",
   "id": "taken-student",
   "metadata": {},
   "source": [
    "A key additional piece of information we haven't got yet is the standard error of the model. The `scale` parameter of the model results provides the residual sum of squares. The square root of this value is the standard error."
   ]
  },
  {
   "cell_type": "code",
   "execution_count": 5,
   "id": "constitutional-subscription",
   "metadata": {},
   "outputs": [
    {
     "name": "stdout",
     "output_type": "stream",
     "text": [
      "The model standard error is: 4.256458664901206\n"
     ]
    }
   ],
   "source": [
    "RSS = results.scale\n",
    "print(\"The model standard error is: \" + str(np.sqrt(RSS)))"
   ]
  },
  {
   "cell_type": "markdown",
   "id": "subject-prague",
   "metadata": {},
   "source": [
    "Lastly, in order to use the model, we want to get the model coefficients without having to hard code the values. They are contained inside the model results."
   ]
  },
  {
   "cell_type": "code",
   "execution_count": 6,
   "id": "nervous-emperor",
   "metadata": {},
   "outputs": [
    {
     "name": "stdout",
     "output_type": "stream",
     "text": [
      "[-4.81446239  4.04400339]\n"
     ]
    }
   ],
   "source": [
    "coefficients = results._results.params\n",
    "print(coefficients)"
   ]
  },
  {
   "cell_type": "markdown",
   "id": "conceptual-orange",
   "metadata": {},
   "source": [
    "There is an alternate way to build linear regression models that are syntactically cleaner. They can be found in the `OLS` class in the `statsmodels.api` library. The drawback to this 'cleaner' method is that it doesn't provide convenient access to the model's ANOVA table. In cases where the ANOVA results aren't needed it may provide a cleaner solution.\n",
    "\n",
    "By default this version DOES NOT include an intercept term. The intercept term needs to be added manually via the `add_constant` method."
   ]
  },
  {
   "cell_type": "code",
   "execution_count": 7,
   "id": "operating-underground",
   "metadata": {},
   "outputs": [
    {
     "name": "stdout",
     "output_type": "stream",
     "text": [
      "                            OLS Regression Results                            \n",
      "==============================================================================\n",
      "Dep. Variable:                      z   R-squared:                       0.893\n",
      "Model:                            OLS   Adj. R-squared:                  0.892\n",
      "Method:                 Least Squares   F-statistic:                     3649.\n",
      "Date:                Tue, 02 Nov 2021   Prob (F-statistic):          7.92e-215\n",
      "Time:                        17:45:26   Log-Likelihood:                -1263.5\n",
      "No. Observations:                 441   AIC:                             2531.\n",
      "Df Residuals:                     439   BIC:                             2539.\n",
      "Df Model:                           1                                         \n",
      "Covariance Type:            nonrobust                                         \n",
      "==============================================================================\n",
      "                 coef    std err          t      P>|t|      [0.025      0.975]\n",
      "------------------------------------------------------------------------------\n",
      "const         -4.8145      0.203    -23.753      0.000      -5.213      -4.416\n",
      "x              4.0440      0.067     60.407      0.000       3.912       4.176\n",
      "==============================================================================\n",
      "Omnibus:                        2.929   Durbin-Watson:                   1.002\n",
      "Prob(Omnibus):                  0.231   Jarque-Bera (JB):                2.879\n",
      "Skew:                          -0.154   Prob(JB):                        0.237\n",
      "Kurtosis:                       2.750   Cond. No.                         3.03\n",
      "==============================================================================\n",
      "\n",
      "Notes:\n",
      "[1] Standard Errors assume that the covariance matrix of the errors is correctly specified.\n"
     ]
    }
   ],
   "source": [
    "import statsmodels.api as sm\n",
    "\n",
    "x = sm.add_constant(data['x'])\n",
    "model = sm.OLS(data['z'], x)\n",
    "results_other_method = model.fit()\n",
    "print(results_other_method.summary())"
   ]
  },
  {
   "cell_type": "markdown",
   "id": "standard-johns",
   "metadata": {},
   "source": [
    "Comparing the results from the second method with the results from the first confirms they are the same. The standard error and the coefficients can be accessed in the same way as the previous method."
   ]
  },
  {
   "cell_type": "markdown",
   "id": "promising-tyler",
   "metadata": {},
   "source": [
    "## Multiple Linear Regression\n",
    "\n",
    "Thus far we have built our model for z based solely on x. However, z is actually dependent on both x and y. Let's see how we can build a model using both variables. We talked about the syntax before but it's better shown with an example."
   ]
  },
  {
   "cell_type": "code",
   "execution_count": 8,
   "id": "handy-gentleman",
   "metadata": {},
   "outputs": [],
   "source": [
    "MLR_model = ols(\"z ~ x + y\", data)\n",
    "MLR_results = MLR_model.fit()"
   ]
  },
  {
   "cell_type": "markdown",
   "id": "effective-casino",
   "metadata": {},
   "source": [
    "In this case we build a model for z based on both x and y. Arbitrarily many terms can be added to the model in this manner. Let's take a look at the results for this model."
   ]
  },
  {
   "cell_type": "code",
   "execution_count": 9,
   "id": "handy-thomas",
   "metadata": {},
   "outputs": [
    {
     "name": "stdout",
     "output_type": "stream",
     "text": [
      "                            OLS Regression Results                            \n",
      "==============================================================================\n",
      "Dep. Variable:                      z   R-squared:                       0.948\n",
      "Model:                            OLS   Adj. R-squared:                  0.947\n",
      "Method:                 Least Squares   F-statistic:                     3964.\n",
      "Date:                Tue, 02 Nov 2021   Prob (F-statistic):          2.87e-281\n",
      "Time:                        17:45:26   Log-Likelihood:                -1105.1\n",
      "No. Observations:                 441   AIC:                             2216.\n",
      "Df Residuals:                     438   BIC:                             2229.\n",
      "Df Model:                           2                                         \n",
      "Covariance Type:            nonrobust                                         \n",
      "==============================================================================\n",
      "                 coef    std err          t      P>|t|      [0.025      0.975]\n",
      "------------------------------------------------------------------------------\n",
      "Intercept     -4.8145      0.142    -33.979      0.000      -5.093      -4.536\n",
      "x              4.0440      0.047     86.412      0.000       3.952       4.136\n",
      "y             -1.0041      0.047    -21.455      0.000      -1.096      -0.912\n",
      "==============================================================================\n",
      "Omnibus:                        0.260   Durbin-Watson:                   2.057\n",
      "Prob(Omnibus):                  0.878   Jarque-Bera (JB):                0.204\n",
      "Skew:                          -0.052   Prob(JB):                        0.903\n",
      "Kurtosis:                       3.015   Cond. No.                         3.03\n",
      "==============================================================================\n",
      "\n",
      "Notes:\n",
      "[1] Standard Errors assume that the covariance matrix of the errors is correctly specified.\n"
     ]
    }
   ],
   "source": [
    "print(MLR_results.summary())"
   ]
  },
  {
   "cell_type": "markdown",
   "id": "dying-proposal",
   "metadata": {},
   "source": [
    "The results here look similar to the results above but we have an additional y term. The y term gives the slope coefficient for the y variable as well as the confidence intervals for it. The same commands for the single variable model can also be used on the multiple variable model so I won't repeat examples for them here. \n",
    "\n",
    "Some notes on the interpretation of the results:\n",
    "* The $R^2$ value increased from 0.89 to 0.95 which seems to inficate that y impacts z, but we need to confirm with the CIs\n",
    "* Looking at the CIs - both x and y are significant factors to predict z as the 95% CIs for both parameters DO NOT cross 0\n",
    "* Holding y fixed a unit increase in x increases z by on average 4.044 units\n",
    "* Holding x fixed a unit increase in y DECREASES z by on average -1.0041 units\n",
    "\n",
    "For reference the function for z in this case is: $z = 4*x -1*y - 5$ plus the addition of some random noise. We can see from the results summary that the true values for all of our parameters fall in the 95% confidence intervals!\n",
    "\n",
    "The ANOVA table can also be calcualted for the MLR model."
   ]
  },
  {
   "cell_type": "code",
   "execution_count": 10,
   "id": "auburn-acrobat",
   "metadata": {},
   "outputs": [
    {
     "name": "stdout",
     "output_type": "stream",
     "text": [
      "             df        sum_sq       mean_sq            F         PR(>F)\n",
      "x           1.0  66110.897036  66110.897036  7467.069259  2.721206e-277\n",
      "y           1.0   4075.652970   4075.652970   460.335351   2.540995e-70\n",
      "Residual  438.0   3877.903351      8.853661          NaN            NaN\n"
     ]
    }
   ],
   "source": [
    "print(anova_lm(MLR_results))"
   ]
  },
  {
   "cell_type": "markdown",
   "id": "endless-gravity",
   "metadata": {},
   "source": [
    "In this case we have two regression sum of square values, one for the x and one for the y. The total $R^2$ value can be calculated by summing up the x and y sum_sq value and dividing by the total sum squared values.\n",
    "\n",
    "## Autocorrelation\n",
    "\n",
    "One thing we talked about during the lectures is the concept of autocorrelation. We said that one of the assumptions for our calculation of the model parameter's confidence intervals is that the data should be independent. Often engineering is NOT independent as it is gathered in time. One data point is then likely to be correlated with the value before it. We discussed how autocorrelation can be checked using an autocorrelation plot. `Matplotlib` offers a convenient way to plot the autocorrelation function using the `acorr` method. Let's see an example below to test if our z value is autocorrelated. The number of lags to show on the plot can be specified with the `maxlags` argument. Let's show 6 lag values."
   ]
  },
  {
   "cell_type": "code",
   "execution_count": 11,
   "id": "resistant-honey",
   "metadata": {},
   "outputs": [
    {
     "data": {
      "image/png": "[encoded data removed]",
      "text/plain": [
       "<Figure size 432x288 with 1 Axes>"
      ]
     },
     "metadata": {
      "needs_background": "light"
     },
     "output_type": "display_data"
    }
   ],
   "source": [
    "import matplotlib.pyplot as plt\n",
    "plt.acorr(data['z'], maxlags=6)\n",
    "plt.show()"
   ]
  },
  {
   "cell_type": "markdown",
   "id": "celtic-official",
   "metadata": {},
   "source": [
    "By default `matplotlib` shows two sided autocorrelation plot. We're only interested in the right side so let's change our x-limits on the plot to only show the right side. The x limits of the plot can be specified using the `xlim` option. "
   ]
  },
  {
   "cell_type": "code",
   "execution_count": 12,
   "id": "auburn-argentina",
   "metadata": {},
   "outputs": [
    {
     "data": {
      "image/png": "[encoded data removed]",
      "text/plain": [
       "<Figure size 432x288 with 1 Axes>"
      ]
     },
     "metadata": {
      "needs_background": "light"
     },
     "output_type": "display_data"
    }
   ],
   "source": [
    "plt.acorr(data['z'], maxlags=5)\n",
    "plt.xlim([0,6])\n",
    "plt.show()"
   ]
  },
  {
   "cell_type": "markdown",
   "id": "directed-metropolitan",
   "metadata": {},
   "source": [
    "In this example the data seems to be mildly autocorrelated. But the results we presented were still good! The CIs we calcualted for our model parameters contained the true values of our parameters. As we discussed in the video lectures, Least Squares regression models are pretty robust to violations of our assumptions. That being said, we should always validate our assumptions and understand \"how much\" we are violating them by!"
   ]
  },
  {
   "cell_type": "markdown",
   "id": "initial-survivor",
   "metadata": {},
   "source": [
    "## MLR with categorical variables\n",
    "\n",
    "Let's now look at MLR including categorical variables. In this case we will look at the BirthWeight data set. The outcome of interest is the weight at birth of 32 randomly selected babies. For each birth, along with the weight of the baby, the baby’s gestational age at birth (how many weeks in the mother’s womb prior to birth) and whether the mother smoked tobacco products was also recorded. \n",
    "\n",
    "Since the process of fitting the model is the same we'll go through this quickly and simply focus on the interpretation of the Python output."
   ]
  },
  {
   "cell_type": "code",
   "execution_count": 13,
   "id": "accredited-australia",
   "metadata": {},
   "outputs": [
    {
     "name": "stdout",
     "output_type": "stream",
     "text": [
      "   Birthweight_g  Gestational_age_weeks Mother_Smokes\n",
      "0           2940                     38           yes\n",
      "1           3130                     38            no\n",
      "2           2420                     36           yes\n",
      "3           2450                     34            no\n",
      "4           2760                     39           yes\n",
      "                            OLS Regression Results                            \n",
      "==============================================================================\n",
      "Dep. Variable:          Birthweight_g   R-squared:                       0.896\n",
      "Model:                            OLS   Adj. R-squared:                  0.889\n",
      "Method:                 Least Squares   F-statistic:                     125.4\n",
      "Date:                Tue, 02 Nov 2021   Prob (F-statistic):           5.29e-15\n",
      "Time:                        17:45:27   Log-Likelihood:                -195.82\n",
      "No. Observations:                  32   AIC:                             397.6\n",
      "Df Residuals:                      29   BIC:                             402.0\n",
      "Df Model:                           2                                         \n",
      "Covariance Type:            nonrobust                                         \n",
      "=========================================================================================\n",
      "                            coef    std err          t      P>|t|      [0.025      0.975]\n",
      "-----------------------------------------------------------------------------------------\n",
      "Intercept             -2389.5729    349.206     -6.843      0.000   -3103.779   -1675.366\n",
      "Mother_Smokes[T.yes]   -244.5440     41.982     -5.825      0.000    -330.406    -158.682\n",
      "Gestational_age_weeks   143.1003      9.128     15.677      0.000     124.431     161.769\n",
      "==============================================================================\n",
      "Omnibus:                        1.946   Durbin-Watson:                   2.016\n",
      "Prob(Omnibus):                  0.378   Jarque-Bera (JB):                1.162\n",
      "Skew:                          -0.090   Prob(JB):                        0.559\n",
      "Kurtosis:                       2.084   Cond. No.                         663.\n",
      "==============================================================================\n",
      "\n",
      "Notes:\n",
      "[1] Standard Errors assume that the covariance matrix of the errors is correctly specified.\n"
     ]
    }
   ],
   "source": [
    "data = pd.read_csv(os.getcwd() + os.sep + \"BirthWeight.csv\", delimiter=';')\n",
    "print(data.head())\n",
    "model_results = ols(\"Birthweight_g ~ Gestational_age_weeks + Mother_Smokes\", data).fit()\n",
    "print(model_results.summary())"
   ]
  },
  {
   "cell_type": "markdown",
   "id": "upper-corrections",
   "metadata": {},
   "source": [
    "The only difference to what we've discussed so far is how Python reports the results for the categorical variable. The table reports the coefficient values for \"Mother_Smokes\" along with \\[T.Yes\\]. This implies that mother smokes is given a value of $d=1$ and non-smokers is given a value of $d=0$ (our equation is of the form $Birthweight = b_0 + b_1*Gestational\\_age\\_weeks + gd_i$).\n",
    "\n",
    "Our interpretation of the model is as follows:\n",
    "* Both gestational age and mother smokes significantly impact birthweight because the 95% CI for those coefficients do NOT contain zero\n",
    "* The coefficient for gestational age is 143.1/week meaning that for each week the baby gestates the average weight at birth increases by 143.1g (holding smoking status fixed)\n",
    "* The coefficient for mother smokes is -244.5 meaning that mothers who smoke gave birth to babies that are on average 244.5g less than mothers who do not smoke, holding gestational age fixed"
   ]
  }
 ],
 "metadata": {
  "kernelspec": {
   "display_name": "Python 3",
   "language": "python",
   "name": "python3"
  },
  "language_info": {
   "codemirror_mode": {
    "name": "ipython",
    "version": 3
   },
   "file_extension": ".py",
   "mimetype": "text/x-python",
   "name": "python",
   "nbconvert_exporter": "python",
   "pygments_lexer": "ipython3",
   "version": "3.8.3"
  }
 },
 "nbformat": 4,
 "nbformat_minor": 5
}
