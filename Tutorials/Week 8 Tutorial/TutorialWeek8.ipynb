{
 "cells": [
  {
   "cell_type": "markdown",
   "id": "average-emerald",
   "metadata": {},
   "source": [
    "In this tutorial we'll investigate a systematic method to determine if a linear model is actually appropriate for our system, and how to transform the variables such that a linear model is in fact appropriate."
   ]
  },
  {
   "cell_type": "code",
   "execution_count": 1,
   "id": "innovative-behalf",
   "metadata": {},
   "outputs": [
    {
     "name": "stdout",
     "output_type": "stream",
     "text": [
      "            x           y\n",
      "0    1.000000    2.086033\n",
      "1    1.090909    2.221410\n",
      "2    1.181818    0.434298\n",
      "3    1.272727    1.886390\n",
      "4    1.363636    0.740685\n",
      "..        ...         ...\n",
      "95   9.636364   91.844718\n",
      "96   9.727273   94.043264\n",
      "97   9.818182   95.713047\n",
      "98   9.909091   96.106594\n",
      "99  10.000000  100.138001\n",
      "\n",
      "[100 rows x 2 columns]\n"
     ]
    }
   ],
   "source": [
    "import pandas as pd\n",
    "import os\n",
    "data = pd.read_csv(os.getcwd() + os.sep + \"T8Data.csv\", delimiter=';')\n",
    "print(data)"
   ]
  },
  {
   "cell_type": "code",
   "execution_count": 2,
   "id": "interior-waste",
   "metadata": {},
   "outputs": [
    {
     "data": {
      "text/plain": [
       "<matplotlib.collections.PathCollection at 0x21e3800ea30>"
      ]
     },
     "execution_count": 2,
     "metadata": {},
     "output_type": "execute_result"
    },
    {
     "data": {
      "image/png": "[encoded data removed]",
      "text/plain": [
       "<Figure size 432x288 with 1 Axes>"
      ]
     },
     "metadata": {
      "needs_background": "light"
     },
     "output_type": "display_data"
    }
   ],
   "source": [
    "import matplotlib.pyplot as plt\n",
    "\n",
    "plt.scatter(data['x'], data['y'])"
   ]
  },
  {
   "cell_type": "markdown",
   "id": "impressive-granny",
   "metadata": {},
   "source": [
    "Based on our plot of the data, our equation might not be linear but we're not exactly sure, let's fit a linear model to the data and see. "
   ]
  },
  {
   "cell_type": "code",
   "execution_count": 3,
   "id": "respective-bloom",
   "metadata": {},
   "outputs": [
    {
     "name": "stdout",
     "output_type": "stream",
     "text": [
      "                            OLS Regression Results                            \n",
      "==============================================================================\n",
      "Dep. Variable:                      y   R-squared:                       0.956\n",
      "Model:                            OLS   Adj. R-squared:                  0.955\n",
      "Method:                 Least Squares   F-statistic:                     2116.\n",
      "Date:                Thu, 04 Nov 2021   Prob (F-statistic):           3.73e-68\n",
      "Time:                        20:26:43   Log-Likelihood:                -324.60\n",
      "No. Observations:                 100   AIC:                             653.2\n",
      "Df Residuals:                      98   BIC:                             658.4\n",
      "Df Model:                           1                                         \n",
      "Covariance Type:            nonrobust                                         \n",
      "==============================================================================\n",
      "                 coef    std err          t      P>|t|      [0.025      0.975]\n",
      "------------------------------------------------------------------------------\n",
      "Intercept    -23.4160      1.458    -16.060      0.000     -26.309     -20.523\n",
      "x             11.0055      0.239     45.999      0.000      10.531      11.480\n",
      "==============================================================================\n",
      "Omnibus:                       13.377   Durbin-Watson:                   0.055\n",
      "Prob(Omnibus):                  0.001   Jarque-Bera (JB):                8.670\n",
      "Skew:                           0.577   Prob(JB):                       0.0131\n",
      "Kurtosis:                       2.135   Cond. No.                         14.5\n",
      "==============================================================================\n",
      "\n",
      "Notes:\n",
      "[1] Standard Errors assume that the covariance matrix of the errors is correctly specified.\n"
     ]
    }
   ],
   "source": [
    "from statsmodels.formula.api import ols\n",
    "\n",
    "model=ols(\"y~x\", data)\n",
    "results = model.fit()\n",
    "print(results.summary())"
   ]
  },
  {
   "cell_type": "markdown",
   "id": "minor-wesley",
   "metadata": {},
   "source": [
    "The model overall seems decent. We know that y and x are correlated and we have a decent $R^2$ value. Let's investigate the model in more detail. Let's look at the model residuals. "
   ]
  },
  {
   "cell_type": "code",
   "execution_count": 4,
   "id": "psychological-buddy",
   "metadata": {},
   "outputs": [
    {
     "data": {
      "text/plain": [
       "<matplotlib.collections.PathCollection at 0x21e485c1430>"
      ]
     },
     "execution_count": 4,
     "metadata": {},
     "output_type": "execute_result"
    },
    {
     "data": {
      "image/png": "[encoded data removed]",
      "text/plain": [
       "<Figure size 432x288 with 1 Axes>"
      ]
     },
     "metadata": {
      "needs_background": "light"
     },
     "output_type": "display_data"
    }
   ],
   "source": [
    "# Calculate the predictions based on our model\n",
    "y_pred = -23.4 + 11*data['x']\n",
    "error = data['y'] - y_pred\n",
    "plt.scatter(data['x'], error)"
   ]
  },
  {
   "cell_type": "markdown",
   "id": "fitting-ratio",
   "metadata": {},
   "source": [
    "Based on the above plot there's clear structure to our errors. Our errors values are clearly not normally distributed and definitely not constant at all levels of x. \n",
    "\n",
    "We think there is nonlinearity to our model. Let's now say our model takes the form: $y = x^p$. Based on the quadatic shape of our residuals, we sispect that p > 1. \n",
    "\n",
    "Let's test this systematically by stepping up p in units of 0.5 $\\Rightarrow p = 1.5$\n",
    "\n",
    "Linearize the model as follows and fit a linear model to the transformed data.\n",
    "$y_{transformed} = y^{1/1.5} = x$\n"
   ]
  },
  {
   "cell_type": "code",
   "execution_count": 5,
   "id": "metric-composer",
   "metadata": {},
   "outputs": [],
   "source": [
    "y_transformed = data['y']**(1/1.5)\n"
   ]
  },
  {
   "cell_type": "code",
   "execution_count": 6,
   "id": "difficult-assistant",
   "metadata": {},
   "outputs": [
    {
     "name": "stdout",
     "output_type": "stream",
     "text": [
      "                            OLS Regression Results                            \n",
      "==============================================================================\n",
      "Dep. Variable:                      y   R-squared:                       0.992\n",
      "Model:                            OLS   Adj. R-squared:                  0.992\n",
      "Method:                 Least Squares   F-statistic:                 1.180e+04\n",
      "Date:                Thu, 04 Nov 2021   Prob (F-statistic):          5.98e-104\n",
      "Time:                        20:26:43   Log-Likelihood:                -82.822\n",
      "No. Observations:                 100   AIC:                             169.6\n",
      "Df Residuals:                      98   BIC:                             174.9\n",
      "Df Model:                           1                                         \n",
      "Covariance Type:            nonrobust                                         \n",
      "==============================================================================\n",
      "                 coef    std err          t      P>|t|      [0.025      0.975]\n",
      "------------------------------------------------------------------------------\n",
      "Intercept     -2.5291      0.130    -19.463      0.000      -2.787      -2.271\n",
      "x              2.3164      0.021    108.633      0.000       2.274       2.359\n",
      "==============================================================================\n",
      "Omnibus:                       10.931   Durbin-Watson:                   0.532\n",
      "Prob(Omnibus):                  0.004   Jarque-Bera (JB):               11.110\n",
      "Skew:                           0.767   Prob(JB):                      0.00387\n",
      "Kurtosis:                       3.561   Cond. No.                         14.5\n",
      "==============================================================================\n",
      "\n",
      "Notes:\n",
      "[1] Standard Errors assume that the covariance matrix of the errors is correctly specified.\n"
     ]
    }
   ],
   "source": [
    "model = ols(\"y~x\", {'x': data['x'], 'y': y_transformed})\n",
    "results = model.fit()\n",
    "print(results.summary())"
   ]
  },
  {
   "cell_type": "markdown",
   "id": "varying-account",
   "metadata": {},
   "source": [
    "Our $R^2$ value improved but let's confirm the model structure is correct by looking at the errors again. When calculating the errors, make sure to transform y back to it's original units!"
   ]
  },
  {
   "cell_type": "code",
   "execution_count": 7,
   "id": "immune-tribe",
   "metadata": {},
   "outputs": [
    {
     "data": {
      "text/plain": [
       "<matplotlib.collections.PathCollection at 0x21e4864ea90>"
      ]
     },
     "execution_count": 7,
     "metadata": {},
     "output_type": "execute_result"
    },
    {
     "data": {
      "image/png": "[encoded data removed]",
      "text/plain": [
       "<Figure size 432x288 with 1 Axes>"
      ]
     },
     "metadata": {
      "needs_background": "light"
     },
     "output_type": "display_data"
    }
   ],
   "source": [
    "y_pred = -2.53 + 2.32*data['x']\n",
    "y_original = y_pred**1.5\n",
    "error = data['y'] - y_original\n",
    "plt.scatter(data['x'], error)"
   ]
  },
  {
   "cell_type": "markdown",
   "id": "pressed-broadcast",
   "metadata": {},
   "source": [
    "There's less structure to our errors but they're still not constant at all levels of x. Let's step up p one more time $p=2$.\n",
    "\n",
    "$y_{transformed} = y^{1/2} = x$"
   ]
  },
  {
   "cell_type": "code",
   "execution_count": 8,
   "id": "round-anthony",
   "metadata": {},
   "outputs": [
    {
     "name": "stdout",
     "output_type": "stream",
     "text": [
      "                            OLS Regression Results                            \n",
      "==============================================================================\n",
      "Dep. Variable:                      y   R-squared:                       0.996\n",
      "Model:                            OLS   Adj. R-squared:                  0.996\n",
      "Method:                 Least Squares   F-statistic:                 2.761e+04\n",
      "Date:                Thu, 04 Nov 2021   Prob (F-statistic):          6.17e-122\n",
      "Time:                        20:26:43   Log-Likelihood:                 43.407\n",
      "No. Observations:                 100   AIC:                            -82.81\n",
      "Df Residuals:                      98   BIC:                            -77.60\n",
      "Df Model:                           1                                         \n",
      "Covariance Type:            nonrobust                                         \n",
      "==============================================================================\n",
      "                 coef    std err          t      P>|t|      [0.025      0.975]\n",
      "------------------------------------------------------------------------------\n",
      "Intercept     -0.0222      0.037     -0.604      0.547      -0.095       0.051\n",
      "x              1.0027      0.006    166.156      0.000       0.991       1.015\n",
      "==============================================================================\n",
      "Omnibus:                       11.109   Durbin-Watson:                   2.129\n",
      "Prob(Omnibus):                  0.004   Jarque-Bera (JB):               30.174\n",
      "Skew:                          -0.110   Prob(JB):                     2.80e-07\n",
      "Kurtosis:                       5.682   Cond. No.                         14.5\n",
      "==============================================================================\n",
      "\n",
      "Notes:\n",
      "[1] Standard Errors assume that the covariance matrix of the errors is correctly specified.\n"
     ]
    }
   ],
   "source": [
    "y_transformed = data['y']**(1/2)\n",
    "model = ols(\"y~x\", {'x': data['x'], 'y': y_transformed})\n",
    "results = model.fit()\n",
    "print(results.summary())"
   ]
  },
  {
   "cell_type": "markdown",
   "id": "republican-wyoming",
   "metadata": {},
   "source": [
    "Let's validate this new model. \n",
    "\n",
    "Again, remember to transform y back to its original values. "
   ]
  },
  {
   "cell_type": "code",
   "execution_count": 9,
   "id": "breathing-cylinder",
   "metadata": {},
   "outputs": [
    {
     "data": {
      "text/plain": [
       "<matplotlib.collections.PathCollection at 0x21e486a3a90>"
      ]
     },
     "execution_count": 9,
     "metadata": {},
     "output_type": "execute_result"
    },
    {
     "data": {
      "image/png": "[encoded data removed]",
      "text/plain": [
       "<Figure size 432x288 with 1 Axes>"
      ]
     },
     "metadata": {
      "needs_background": "light"
     },
     "output_type": "display_data"
    }
   ],
   "source": [
    "y_pred = -0.02 + 1.00*data['x']\n",
    "y_new = y_pred**2\n",
    "error = data['y'] - y_new\n",
    "plt.scatter(data['x'], error)"
   ]
  },
  {
   "cell_type": "markdown",
   "id": "usual-montreal",
   "metadata": {},
   "source": [
    "Based on the above plot our error values look constant for all levels of x. There is no longer a clear structure to our errors. Based on this, we think that the transformation $y_{transformed} = y^{1/2} = x$ is reasonable. \n",
    "\n",
    "Note: in this tutorial we didn't think about how the transformation impacts the units of the coefficients. Make sure to pay attention to that when transforming real data. "
   ]
  }
 ],
 "metadata": {
  "kernelspec": {
   "display_name": "Python 3",
   "language": "python",
   "name": "python3"
  },
  "language_info": {
   "codemirror_mode": {
    "name": "ipython",
    "version": 3
   },
   "file_extension": ".py",
   "mimetype": "text/x-python",
   "name": "python",
   "nbconvert_exporter": "python",
   "pygments_lexer": "ipython3",
   "version": "3.8.3"
  }
 },
 "nbformat": 4,
 "nbformat_minor": 5
}
