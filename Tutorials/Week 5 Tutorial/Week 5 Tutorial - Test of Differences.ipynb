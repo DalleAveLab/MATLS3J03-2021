{
 "cells": [
  {
   "cell_type": "markdown",
   "id": "black-compression",
   "metadata": {},
   "source": [
    "A researcher is developing a new drug delivery method (novel Method = B) for a well-established existing drug (typically delivered via Method A). They measured the uptake of the drug using Method A in 10 different lab mice waited several days for the drug to leave the mice’s system and then administered the drug in the alternate form (Method B) and once again measured the uptake. Knowing you’re on your way to becoming pro statisticians, they give you a conveniently formatted csv and ask you to help analyze their results.\n",
    "\n",
    "A) Is a two-sample test or a paired test more appropriate? Why?\n",
    "\n",
    "A paired test is more suitable because we have variability in common between our test pairs (aka the mice). We want to cancel the variability by running the paired test on each mouse.\n",
    "\n",
    "B) Based on your decision, calculate the 95% confidence interval for the difference $μ_B-μ_A$\n",
    "\n",
    "C) Interpret the confidence interval and make a conclusion for the researcher\n",
    "\n"
   ]
  },
  {
   "cell_type": "code",
   "execution_count": 1,
   "id": "fewer-montana",
   "metadata": {},
   "outputs": [
    {
     "name": "stdout",
     "output_type": "stream",
     "text": [
      "   Unnamed: 0          A          B\n",
      "0           0  -3.662886  -3.422549\n",
      "1           1   8.306399  10.591479\n",
      "2           2   6.819711   6.130886\n",
      "3           3   9.757578  10.192032\n",
      "4           4  11.494306  15.299046\n",
      "5           5   8.937047   9.338760\n",
      "6           6  11.902184  13.513236\n",
      "7           7  14.772088  15.750661\n",
      "8           8   9.361552  13.113879\n",
      "9           9   9.268911   9.106832\n"
     ]
    }
   ],
   "source": [
    "import pandas as pd\n",
    "data = pd.read_csv(\"C:\\\\Users\\\\DEGIDAL\\\\Desktop\\\\Week5-1.csv\")\n",
    "print(data)\n"
   ]
  },
  {
   "cell_type": "code",
   "execution_count": 2,
   "id": "mexican-reconstruction",
   "metadata": {},
   "outputs": [],
   "source": [
    "A = data['A']\n",
    "B = data['B']"
   ]
  },
  {
   "cell_type": "code",
   "execution_count": 4,
   "id": "further-mounting",
   "metadata": {},
   "outputs": [
    {
     "name": "stdout",
     "output_type": "stream",
     "text": [
      "0    0.240337\n",
      "1    2.285079\n",
      "2   -0.688826\n",
      "3    0.434454\n",
      "4    3.804739\n",
      "5    0.401713\n",
      "6    1.611052\n",
      "7    0.978573\n",
      "8    3.752327\n",
      "9   -0.162080\n",
      "dtype: float64\n"
     ]
    }
   ],
   "source": [
    "w = B - A\n",
    "print(w)"
   ]
  },
  {
   "cell_type": "code",
   "execution_count": 16,
   "id": "aerial-python",
   "metadata": {},
   "outputs": [
    {
     "name": "stdout",
     "output_type": "stream",
     "text": [
      "1.5712138525224093\n"
     ]
    }
   ],
   "source": [
    "import numpy as np\n",
    "mean = np.mean(w)\n",
    "std = np.std(w, ddof=1)\n",
    "print(std)\n"
   ]
  },
  {
   "cell_type": "code",
   "execution_count": 7,
   "id": "declared-undergraduate",
   "metadata": {},
   "outputs": [
    {
     "name": "stdout",
     "output_type": "stream",
     "text": [
      "2.2621571627409915\n"
     ]
    }
   ],
   "source": [
    "from scipy.stats import t\n",
    "Ct = t.ppf(0.975,9)\n",
    "print(Ct)"
   ]
  },
  {
   "cell_type": "code",
   "execution_count": 8,
   "id": "alpine-rotation",
   "metadata": {},
   "outputs": [
    {
     "name": "stdout",
     "output_type": "stream",
     "text": [
      "0.14175816483096892 <= mu_w <= 2.3897155250914723\n"
     ]
    }
   ],
   "source": [
    "LB = mean - Ct*std/np.sqrt(10)\n",
    "UB = mean + Ct*std/np.sqrt(10)\n",
    "print(str(LB) + \" <= mu_w <= \" + str(UB))"
   ]
  },
  {
   "cell_type": "markdown",
   "id": "least-defeat",
   "metadata": {},
   "source": [
    "C) Since the CI does not span 0, we can conclude there is a statistically significant difference."
   ]
  },
  {
   "cell_type": "code",
   "execution_count": 10,
   "id": "searching-mediterranean",
   "metadata": {},
   "outputs": [],
   "source": [
    "mean_b = np.mean(B)\n",
    "mean_a = np.mean(A)\n",
    "std_a = np.std(A, ddof=1)\n",
    "std_b = np.std(B, ddof=1)"
   ]
  },
  {
   "cell_type": "code",
   "execution_count": 12,
   "id": "meaningful-dynamics",
   "metadata": {},
   "outputs": [
    {
     "name": "stdout",
     "output_type": "stream",
     "text": [
      "5.235192207806762\n"
     ]
    }
   ],
   "source": [
    "na = nb = 10\n",
    "s_p = np.sqrt((((na-1)*std_a**2)+((nb-1)*std_b**2))/(na + nb -2))\n",
    "print(s_p)"
   ]
  },
  {
   "cell_type": "code",
   "execution_count": 13,
   "id": "invisible-knight",
   "metadata": {},
   "outputs": [
    {
     "name": "stdout",
     "output_type": "stream",
     "text": [
      "2.10092204024096\n"
     ]
    }
   ],
   "source": [
    "Ct = t.ppf(0.975,18)\n",
    "print(Ct)"
   ]
  },
  {
   "cell_type": "code",
   "execution_count": 15,
   "id": "systematic-editor",
   "metadata": {},
   "outputs": [
    {
     "name": "stdout",
     "output_type": "stream",
     "text": [
      "-1.1936541049009008 <= mu_b - mu_a <= 3.72512779482334\n"
     ]
    }
   ],
   "source": [
    "LB = (mean_b - mean_a) - Ct*s_p/np.sqrt(20)\n",
    "UB = (mean_b - mean_a) + Ct*s_p/np.sqrt(20)\n",
    "print(str(LB) + \" <= mu_b - mu_a <= \" + str(UB))"
   ]
  }
 ],
 "metadata": {
  "kernelspec": {
   "display_name": "Python 3",
   "language": "python",
   "name": "python3"
  },
  "language_info": {
   "codemirror_mode": {
    "name": "ipython",
    "version": 3
   },
   "file_extension": ".py",
   "mimetype": "text/x-python",
   "name": "python",
   "nbconvert_exporter": "python",
   "pygments_lexer": "ipython3",
   "version": "3.8.3"
  }
 },
 "nbformat": 4,
 "nbformat_minor": 5
}
